{
 "cells": [
  {
   "cell_type": "code",
   "execution_count": 1,
   "id": "b2e174eb",
   "metadata": {},
   "outputs": [
    {
     "name": "stderr",
     "output_type": "stream",
     "text": [
      "[nltk_data] Downloading package punkt to\n",
      "[nltk_data]     /Users/andriimyronenko/nltk_data...\n",
      "[nltk_data]   Package punkt is already up-to-date!\n"
     ]
    },
    {
     "data": {
      "text/plain": [
       "True"
      ]
     },
     "execution_count": 1,
     "metadata": {},
     "output_type": "execute_result"
    }
   ],
   "source": [
    "# !pip install spacy\n",
    "\n",
    "from dotenv import load_dotenv\n",
    "import ast\n",
    "\n",
    "load_dotenv()\n",
    "\n",
    "import nltk\n",
    "nltk.download('punkt')"
   ]
  },
  {
   "cell_type": "code",
   "execution_count": 2,
   "id": "68508f36",
   "metadata": {},
   "outputs": [],
   "source": [
    "import pandas as pd\n",
    "\n",
    "test_tech_df = pd.read_csv('./data/test_df_tech_only_combined.csv')\n",
    "\n",
    "test_tech_df['knowledge'] = test_tech_df['knowledge'].apply(ast.literal_eval)\n",
    "test_tech_df['skills'] = test_tech_df['skills'].apply(ast.literal_eval)"
   ]
  },
  {
   "cell_type": "code",
   "execution_count": 3,
   "id": "d53b55bf",
   "metadata": {},
   "outputs": [
    {
     "name": "stdout",
     "output_type": "stream",
     "text": [
      "Full Stack Software Engineer - Java / JavaScript <ORGANIZATION> <ORGANIZATION> <ORGANIZATION> <ORGANIZATION> . <ADDRESS> <ADDRESS> <LOCATION> - <LOCATION> Date posted: 2021-03-04 Likes: 0 Dislikes: 0 Love: 0 Salary: <SALARY> Job type: FULL_TIME Experience level: <EXPERIENCE> Industry: <INDUSTRY> Company size: <SIZE> Company type: <COMPANY_TYPE> Technologies: javascript reactjs java Job description: Job type: Full-time Role: Full Stack Developer Technologies javascript reactjs java Job description As a member of our <ORGANIZATION> <ORGANIZATION> <ORGANIZATION> we look first and foremost for people who are passionate around solving business problems through innovation and engineering practices . You'll be required to apply your depth of knowledge and expertise to all aspects of the software development lifecycle as well as partner continuously with your many stakeholders on a daily basis to stay focused on common goals . We embrace a culture of experimentation and constantly strive for improvement and learning . You'll work in a collaborative trusting thought-provoking environment-one that encourages diversity of thought and creative solutions that are in the best interests of our customers globally . This opportunity requires a highly motivated candidate to work in a small and talented software development team in order to deliver of a next-generation analytics products for our institutional client base . The analytics solutions will be a commercial business in its own right so a heavy emphasis on building technology that Client's will pay for and that creates stickiness . This framework is at an early stage of development which offers an opportunity for an experienced developer to help shape the key components of the product and create commercial opportunities for a new business initiative . You will partner primarily with fellow technologists from across lines of business Product Development and Quantitative Research to build a modern and comprehensive API allowing clients to easily define and compute analytics on a wide variety of financial instruments . * • BS/BA degree or equivalent experience * • Advanced knowledge of application data and infrastructure architecture disciplines * • Understanding of architecture and design across all systems * • Working proficiency in developmental toolsets * • Knowledge of industry-wide technology strategies and best practices * • Ability to work in large collaborative teams to achieve organizational goals and passionate about building an innovative culture * • Proficiency in one or more modern programming languages - Java and Javascript preferable * • Understanding of software skills such as business analysis development maintenance and software improvement * • In-depth HTML5 / JavaScript * • Competent with developing multithreaded scalable concurrent applications . * • Node JS ( server side and tooling ) * • React or similar view framework <ORGANIZATION> <ORGANIZATION> <ORGANIZATION> is a global leader in financial services providing strategic advice and products to the world's most prominent corporations governments wealthy individuals and institutional investors . Our first-class business in a first-class way approach to serving clients drives everything we do . We strive to build trusted long-term partnerships to help our clients achieve their business objectives . We recognize that our people are our strength and the diverse talents they bring to our global workforce are directly linked to our success . We are an equal opportunity employer and place a high value on diversity and inclusion at our company . We do not discriminate on the basis of any protected attribute including race religion color national origin gender sexual orientation gender identity gender expression age marital or veteran status pregnancy or disability or any other basis protected under applicable law . In accordance with applicable law we make reasonable accommodations for applicants' and employees' religious practices and beliefs as well as any mental health or physical disability needs . Job benefits: - Company description: <DESCRIPTION>\n",
      ">>>>>>>>>>>>>>>>>>>>>>>>>>>>>>>>>>>>>>>>>>>>>>>>>>\n",
      "['solving business problems', 'apply your depth of knowledge and expertise', 'partner continuously with your many stakeholders', 'stay focused on common goals', 'motivated', 'deliver of a next-generation analytics products', 'developmental toolsets', 'work in large collaborative teams', 'achieve organizational goals', 'building an innovative culture', 'developing multithreaded scalable concurrent applications']\n",
      ">>>>>>>>>>>>>>>>>>>>>>>>>>>>>>>>>>>>>>>>>>>>>>>>>>\n",
      "['javascript', 'reactjs', 'java', 'javascript', 'reactjs', 'java', 'innovation and engineering practices', 'software development lifecycle', 'BS/BA degree', 'application data and infrastructure architecture disciplines', 'architecture', 'design', 'industry-wide technology strategies and best practices', 'Java', 'Javascript', 'business analysis', 'development', 'maintenance', 'software improvement', 'HTML5', 'JavaScript', 'Node JS ( server side and tooling ) *', 'React']\n"
     ]
    }
   ],
   "source": [
    "print(test_tech_df.at[0, 'text'])\n",
    "print('>>>>>>>>>>>>>>>>>>>>>>>>>>>>>>>>>>>>>>>>>>>>>>>>>>')\n",
    "print(test_tech_df.at[0, 'skills'])\n",
    "print('>>>>>>>>>>>>>>>>>>>>>>>>>>>>>>>>>>>>>>>>>>>>>>>>>>')\n",
    "print(test_tech_df.at[0, 'knowledge'])"
   ]
  },
  {
   "cell_type": "code",
   "execution_count": 4,
   "id": "836ebc13",
   "metadata": {},
   "outputs": [
    {
     "data": {
      "text/plain": [
       "(31, 5)"
      ]
     },
     "execution_count": 4,
     "metadata": {},
     "output_type": "execute_result"
    }
   ],
   "source": [
    "test_tech_df.shape"
   ]
  },
  {
   "cell_type": "code",
   "execution_count": 5,
   "id": "08ce493d",
   "metadata": {},
   "outputs": [],
   "source": [
    "verbose_template = \"\"\"\n",
    "You are a top-notch recruiter and data labeler.\n",
    "Your task is to thoroughly analyze the following part of a job posting and extract text spans including skills or knowledge.\n",
    "\n",
    "You should use the following guideline for annotation:\n",
    "\n",
    "Instruction for Annotating Text for Skills and Knowledge Components\n",
    "Objective: Identify and annotate spans of text in job postings (JPs) that represent specific skills or knowledge required for the position.\n",
    "\n",
    "1. Identifying Skills:\n",
    "\n",
    "General Rule: A skill is usually indicated by a VERB or an (ADJECTIVE) + NOUN combination.\n",
    "Exclusion of Modal Verbs: Do not tag modal verbs (e.g., can, will) as part of the skill.\n",
    "Phrase Separation: Split phrases containing prepositions and/or conjunctions, except when conjunctions coordinate two nouns as a single argument.\n",
    "Handling Anaphoric Pronouns: Avoid tagging skills with anaphoric pronouns. Only tag the preceding skill.\n",
    "Splitting Coordinated Components: Split nouns and adjectives in coordination if they lack a verb.\n",
    "Listing of Skills: If skills are listed leading to different subtasks, annotate each separately.\n",
    "Brevity in Contextual Information: Keep skill annotations concise, especially when followed by company-specific info.\n",
    "Inclusion of 'skills' or 'knowledge' in Tags: Include these words in the annotation if their omission alters the meaning.\n",
    "Parenthetical Information: Include if it elaborates on the skill or is an abbreviation.\n",
    "Adverbial Inclusion: Include adverbials that describe the manner of doing something.\n",
    "Attitudes as Skills: Annotate attitudes as skills, omitting articles.\n",
    "Exclusions:\n",
    "Avoid tagging ironic skills.\n",
    "Avoid nested annotations; use one span for overlapping skills.\n",
    "Do not tag skills in top headlines, but do tag in sub-headlines and body text.\n",
    "Exclude fluff and triggers surrounding the skill component.\n",
    "Exclude participation, contributing, and transfer expressions from skill annotations.\n",
    "Do not annotate occupations or positions.\n",
    "Focus on skills related and specific to the position.\n",
    "\n",
    "2. Identifying Knowledge:\n",
    "General Rule: Knowledge is non-executable and possessed by an individual.\n",
    "Inclusion of Parenthetical Information: Include if it is related to the knowledge component.\n",
    "Licenses and Certifications: Include additional words like \"certificate,\" \"license,\" etc.\n",
    "Vague Preceding Verbs: Only tag the knowledge component if preceded by a vague verb.\n",
    "Specificity: Annotate only specified knowledge components.\n",
    "Nested Knowledge in Skills: Knowledge components can be nested within skill annotations.\n",
    "Coordination of Knowledge Components: Annotate as one if all components share one knowledge tag.\n",
    "Listing Knowledge Tags: Annotate all knowledge tags separately.\n",
    "Annotation of Industries and Fields: Tag these as knowledge components.\n",
    "\n",
    "3. Prioritization and Other Considerations:\n",
    "Prefer skills over knowledge in uncertain cases.\n",
    "Prioritize skills over attitudes; only tag the skill within an attitude.\n",
    "Keep annotations concise and relevant to the job.\n",
    "Annotate skills and knowledge in unconventional places if related to the position.\n",
    "Consider annotating a combination of skill and knowledge when applicable.\n",
    "Exclude knowledge/skill components in positions.\n",
    "Focus on annotations relevant to the specific position and its future expectations.\n",
    "\n",
    "Output just the JSON array, wihtout any other text. \n",
    "Start your response with \"[\" symbol, and finish with \"]\".\n",
    "Make sure your response doesn't include anything else.\n",
    "\n",
    "Job posting:\n",
    "{job_posting}\n",
    "\n",
    "Response:\"\"\"\n",
    "\n",
    "short_template = \"\"\"\n",
    "    You are a top-notch recruiter and data labeler.\n",
    "    Your task is to thoroughly analyze the following part of a job posting and extract text spans including skills and knowledge.\n",
    "    A skill in a job context is typically indicated by a verb or an adjective-noun combination, reflecting an executable ability or a specific way of performing a task. \n",
    "    Knowledge, on the other hand, refers to non-executable information that an individual possesses, often indicated by specific fields, industries, or certifications, and is distinct from direct action or skills.\n",
    "\n",
    "    Output the JSON array, wihtout any other text. \n",
    "    Start your response with \"[\" symbol, and finish with \"]\".\n",
    "    Make sure your response doesn't include anything else.\n",
    "        \n",
    "    Job posting:\n",
    "    {job_posting}\n",
    "\"\"\"\n",
    "\n",
    "few_shot_template = \"\"\"\n",
    "    You are a top-notch recruiter and data labeler.\n",
    "    Your task is to thoroughly analyze the following part of a job posting and extract text spans including job-related skills or knowledge.\n",
    "    A skill in a job context is typically indicated by a verb or an adjective-noun combination, reflecting an executable ability or a specific way of performing a task. \n",
    "    Knowledge, on the other hand, refers to non-executable information that an individual possesses, often indicated by specific fields, industries, or certifications, and is distinct from direct action or skills.\n",
    "    \n",
    "    Below you can see some examples. Pay attention to what is included in detected spans. We want not to include false positive skills and knowledge.\n",
    "\n",
    "    Job posting:\n",
    "    Ability to work in large collaborative teams to achieve organizational goals\n",
    "    Detected spans:\n",
    "    [\"work in large collaborative teams\"]\n",
    "\n",
    "    Job posting:\n",
    "    Work hands-on together with the other engineers within the Agile team \n",
    "    Detected spans:\n",
    "    [\"Work hands-on\"]\n",
    "    \n",
    "    Job posting:\n",
    "    Requirements At least 5 years of combined experience in Java or Kotlin and JavaScript or TypeScript programming and related test frameworks ( Selenium TestCafe etc.) .\n",
    "    Detected spans:\n",
    "    [\"Java\", \"Kotlin\", \"JavaScript\", \"Typescript\"]\n",
    "    \n",
    "    Job posting:\n",
    "    A degree in Computer Science or related fields or equivalent practical experience . \n",
    "    Detected spans:\n",
    "    [\"degree in Computer Science\"]\n",
    "    \n",
    "    Job posting:\n",
    "    Experience in working on a cloud-based application running on Docker .\n",
    "    Detected spans:\n",
    "    [\"Docker\", \"working on a cloud-based application\"]\n",
    "    Make sure to never include protected attributes like gender identity or veteran status in the returned list:\n",
    "    \n",
    "    Job posting:\n",
    "    We do not discriminate on the basis of any protected attribute including race religion color national origin gender sexual orientation .\n",
    "    Detected spans:\n",
    "    []\n",
    "\n",
    "    Output just the JSON array, wihtout any other text. \n",
    "    Start your response with \"[\" symbol, and finish with \"]\".\n",
    "    Make sure your response doesn't include data from examples and anything else except from JSON array.\n",
    "    Return empty array If there are no obvious skill and knowledge spans in the given posting.\n",
    "    \n",
    "    Job posting:\n",
    "    {job_posting}\n",
    "    Detected spans:\n",
    "\"\"\"\n",
    "\n",
    "annotation_guidelines_template = \"\"\"\n",
    "    You are a top-notch recruiter and data labeler.\n",
    "    Your task is to thoroughly analyze the following part of a job posting and extract text spans including job-related skills and knowledge components.\n",
    "    The definition of skill is the following:\n",
    "    \"The ability to apply knowledge and use know-how to complete tasks and solve problems. Skills are described as cognitive (involving the use of logical, intuitive and creative thinking) or practical (involving manual dexterity and the use of methods, materials, tools and instruments).\"\n",
    "    The definition of knowledge is the following:\n",
    "    \"The body of facts, principles, theories and practices that is related to a field of work or study. Knowledge is described as theoretical and/or factual, and is the outcome of the assimilation of information through learning.\"\n",
    "    Make sure to detect the shortest possible text span excluding irrelevant, company-specific information. Avoid including general descriptions or knowledge areas, and concentrate on specific abilities or competencies required to perform job tasks effectively.\n",
    "    \n",
    "    Output just the JSON array, with skill or knowledge strings surrounded by quotation marks. \n",
    "    Start your response with \"[\" symbol, and finish with \"]\".\n",
    "    \n",
    "    Example job posting including skill components:\n",
    "    We are looking for people who want to work in cross-functional teams and want to help others learn how to build them    \n",
    "    Detected spans:\n",
    "    [\"work in cross-functional teams\", \"help others learn\"]\n",
    "    \n",
    "    Example job posting including knowledge components:\n",
    "    Experience with latest versions of  and     \n",
    "    Detected spans:\n",
    "    [\"Java\", \"Spring\"]\n",
    "    \n",
    "    Make sure your response doesn't include anything else except from JSON array.\n",
    "    Return empty array If there are no obvious skill or knowledge components in the given posting.\n",
    "    \n",
    "    Job posting:\n",
    "    {job_posting}\n",
    "    Detected spans:\n",
    "\"\"\"\n",
    "\n",
    "\n",
    "template_collection = {\n",
    "    'verbose': verbose_template,\n",
    "    'short': short_template,\n",
    "    'few_shot': few_shot_template,\n",
    "    'annotation_guidelines_template': annotation_guidelines_template\n",
    "}"
   ]
  },
  {
   "cell_type": "code",
   "execution_count": 6,
   "id": "79de0caa",
   "metadata": {},
   "outputs": [],
   "source": [
    "from langchain import LLMChain, PromptTemplate\n",
    "from langchain.output_parsers import StructuredOutputParser, ResponseSchema\n",
    "from langchain.prompts import PromptTemplate, ChatPromptTemplate, HumanMessagePromptTemplate\n",
    "from langchain.llms import OpenAI\n",
    "from langchain.chat_models import ChatOpenAI\n",
    "\n",
    "prompt_template = PromptTemplate(input_variables=[\"job_posting\"], template=template_collection['annotation_guidelines_template'])"
   ]
  },
  {
   "cell_type": "code",
   "execution_count": 7,
   "id": "f9dd32b0",
   "metadata": {},
   "outputs": [],
   "source": [
    "from langchain.llms.fireworks import Fireworks \n",
    "\n",
    "llm = Fireworks(model=\"accounts/fireworks/models/llama-v2-70b-chat\", max_tokens=-1, top_p=0.6)"
   ]
  },
  {
   "cell_type": "code",
   "execution_count": 8,
   "id": "92f1dfab",
   "metadata": {},
   "outputs": [
    {
     "data": {
      "text/plain": [
       "['work in cross-functional teams',\n",
       " 'partner continuously with stakeholders',\n",
       " 'apply depth of knowledge and expertise',\n",
       " 'build technology that clients will pay for',\n",
       " 'create commercial opportunities',\n",
       " 'BS/BA degree or equivalent experience',\n",
       " 'advanced knowledge of application data and infrastructure architecture disciplines',\n",
       " 'understanding of architecture and design across all systems',\n",
       " 'working proficiency in developmental toolsets',\n",
       " 'knowledge of industry-wide technology strategies and best practices',\n",
       " 'ability to work in large collaborative teams',\n",
       " 'proficiency in one or more modern programming languages',\n",
       " 'understanding of software skills such as business analysis development maintenance and software improvement',\n",
       " 'in-depth HTML5 / JavaScript',\n",
       " 'competent with developing multithreaded scalable concurrent applications',\n",
       " 'Node JS (server side and tooling)',\n",
       " 'React or similar view framework']"
      ]
     },
     "execution_count": 8,
     "metadata": {},
     "output_type": "execute_result"
    }
   ],
   "source": [
    "import ast\n",
    "\n",
    "test_posting = test_tech_df.at[0, 'text']\n",
    "\n",
    "def get_skills_for_posting(job_posting):\n",
    "    prompt_val = prompt_template.invoke({\"job_posting\": job_posting})\n",
    "    prompt = prompt_val.to_string()\n",
    "    output = llm(prompt)\n",
    "    array_start = output.find('[')\n",
    "    array_end = output.find(']', array_start)\n",
    "    array_string = output[array_start:array_end+1].strip()\n",
    "    return ast.literal_eval(array_string)\n",
    "     \n",
    "llama_results = get_skills_for_posting(test_posting)\n",
    "llama_results"
   ]
  },
  {
   "cell_type": "code",
   "execution_count": 9,
   "id": "ab6c5643",
   "metadata": {},
   "outputs": [],
   "source": [
    "def calculate_f1_score(real_values, predicted_values):\n",
    "    real_values = [val.lower() for val in real_values]\n",
    "    predicted_values = [val.lower() for val in predicted_values]\n",
    " \n",
    "    tp = sum([1 for val in predicted_values if val in real_values])\n",
    "    fp = sum([1 for val in predicted_values if val not in real_values])\n",
    "    fn = sum([1 for val in real_values if val not in predicted_values])\n",
    "\n",
    "    precision = tp / (tp + fp) if (tp + fp) > 0 else 0\n",
    "    recall = tp / (tp + fn) if (tp + fn) > 0 else 0\n",
    "    f1_score = 2 * (precision * recall) / (precision + recall) if (precision + recall) > 0 else 0\n",
    "    \n",
    "    print(\"Precision: \" + str(precision))\n",
    "    print(\"Recall: \" + str(recall))\n",
    "\n",
    "    return f1_score"
   ]
  },
  {
   "cell_type": "code",
   "execution_count": 10,
   "id": "73bc9e59",
   "metadata": {},
   "outputs": [
    {
     "data": {
      "text/plain": [
       "['solving business problems',\n",
       " 'apply your depth of knowledge and expertise',\n",
       " 'partner continuously with your many stakeholders',\n",
       " 'stay focused on common goals',\n",
       " 'motivated',\n",
       " 'deliver of a next-generation analytics products',\n",
       " 'developmental toolsets',\n",
       " 'work in large collaborative teams',\n",
       " 'achieve organizational goals',\n",
       " 'building an innovative culture',\n",
       " 'developing multithreaded scalable concurrent applications',\n",
       " 'javascript',\n",
       " 'reactjs',\n",
       " 'java',\n",
       " 'javascript',\n",
       " 'reactjs',\n",
       " 'java',\n",
       " 'innovation and engineering practices',\n",
       " 'software development lifecycle',\n",
       " 'BS/BA degree',\n",
       " 'application data and infrastructure architecture disciplines',\n",
       " 'architecture',\n",
       " 'design',\n",
       " 'industry-wide technology strategies and best practices',\n",
       " 'Java',\n",
       " 'Javascript',\n",
       " 'business analysis',\n",
       " 'development',\n",
       " 'maintenance',\n",
       " 'software improvement',\n",
       " 'HTML5',\n",
       " 'JavaScript',\n",
       " 'Node JS ( server side and tooling ) *',\n",
       " 'React']"
      ]
     },
     "execution_count": 10,
     "metadata": {},
     "output_type": "execute_result"
    }
   ],
   "source": [
    "merged_skills_knowledge = test_tech_df.at[0, 'skills'] + test_tech_df.at[0, 'knowledge']\n",
    "\n",
    "merged_skills_knowledge"
   ]
  },
  {
   "cell_type": "code",
   "execution_count": 11,
   "id": "16f615ea",
   "metadata": {},
   "outputs": [
    {
     "name": "stdout",
     "output_type": "stream",
     "text": [
      "Precision: 0.0\n",
      "Recall: 0.0\n"
     ]
    },
    {
     "data": {
      "text/plain": [
       "0"
      ]
     },
     "execution_count": 11,
     "metadata": {},
     "output_type": "execute_result"
    }
   ],
   "source": [
    "calculate_f1_score(merged_skills_knowledge, llama_results)"
   ]
  },
  {
   "cell_type": "code",
   "execution_count": 12,
   "id": "57b30d77",
   "metadata": {},
   "outputs": [],
   "source": [
    "from nltk.tokenize import sent_tokenize\n",
    "\n",
    "def divide_into_chunks(text, min_sentences=3):\n",
    "    sentences = sent_tokenize(text)\n",
    "    \n",
    "    chunks = []\n",
    "    current_chunk = []\n",
    "\n",
    "    for sentence in sentences:\n",
    "        current_chunk.append(sentence)\n",
    "        if len(current_chunk) == min_sentences:\n",
    "            chunks.append(' '.join(current_chunk))\n",
    "            current_chunk = []\n",
    "\n",
    "    if current_chunk:\n",
    "        chunks.append(' '.join(current_chunk))\n",
    "\n",
    "    return chunks\n",
    "\n",
    "chunks = divide_into_chunks(test_posting)"
   ]
  },
  {
   "cell_type": "code",
   "execution_count": 13,
   "id": "50f3030e",
   "metadata": {},
   "outputs": [
    {
     "data": {
      "text/plain": [
       "['Full Stack Developer',\n",
       " 'Full Stack Software Engineer',\n",
       " 'javascript',\n",
       " 'reactjs',\n",
       " 'java',\n",
       " 'software development lifecycle',\n",
       " 'innovation',\n",
       " 'engineering practices',\n",
       " 'solving business problems',\n",
       " 'partner',\n",
       " 'stakeholders',\n",
       " 'common goals',\n",
       " 'work in a collaborative',\n",
       " 'trusting',\n",
       " 'thought-provoking',\n",
       " 'diversity of thought',\n",
       " 'creative solutions',\n",
       " 'next-generation analytics',\n",
       " 'institutional client base',\n",
       " 'build technology',\n",
       " 'create commercial opportunities',\n",
       " 'shape the key components of the product',\n",
       " 'fellow technologists',\n",
       " 'build a modern and comprehensive API',\n",
       " 'allow clients to easily define and compute analytics',\n",
       " 'BS/BA degree',\n",
       " 'application data and infrastructure architecture disciplines',\n",
       " 'architecture and design',\n",
       " 'developmental toolsets',\n",
       " 'industry-wide technology strategies',\n",
       " 'modern programming languages',\n",
       " 'business analysis development maintenance',\n",
       " 'software improvement',\n",
       " 'HTML5',\n",
       " 'JavaScript',\n",
       " 'multithreaded scalable concurrent applications',\n",
       " 'Node JS',\n",
       " 'React',\n",
       " 'view framework',\n",
       " 'build trusted long-term partnerships',\n",
       " 'help our clients achieve their business objectives',\n",
       " 'recognize that our people are our strength',\n",
       " 'diverse talents',\n",
       " 'equal opportunity employer',\n",
       " 'place a high value on diversity and inclusion',\n",
       " 'protect attribute',\n",
       " 'religious practices',\n",
       " 'beliefs',\n",
       " 'mental health',\n",
       " 'physical disability']"
      ]
     },
     "execution_count": 13,
     "metadata": {},
     "output_type": "execute_result"
    }
   ],
   "source": [
    "def get_skills_for_posting_chunked(job_posting):\n",
    "    chunks = divide_into_chunks(job_posting)\n",
    "    responses = []\n",
    "    \n",
    "    for chunk in chunks:\n",
    "        try:\n",
    "            prompt_val = prompt_template.invoke({\"job_posting\": chunk})\n",
    "            prompt = prompt_val.to_string()\n",
    "            output = llm(prompt)\n",
    "            array_start = output.find('[')\n",
    "            array_end = output.find(']', array_start)\n",
    "\n",
    "            array_string = output[array_start:array_end+1].strip()\n",
    "            responses = responses + ast.literal_eval(array_string)\n",
    "        except:\n",
    "            print(\"ERROR processing chunk\")\n",
    "    \n",
    "    return responses\n",
    "    \n",
    "responses = get_skills_for_posting_chunked(test_posting)\n",
    "\n",
    "responses"
   ]
  },
  {
   "cell_type": "code",
   "execution_count": 14,
   "id": "f11975b8",
   "metadata": {},
   "outputs": [
    {
     "name": "stdout",
     "output_type": "stream",
     "text": [
      "Precision: 0.24\n",
      "Recall: 0.41379310344827586\n"
     ]
    },
    {
     "data": {
      "text/plain": [
       "0.3037974683544304"
      ]
     },
     "execution_count": 14,
     "metadata": {},
     "output_type": "execute_result"
    }
   ],
   "source": [
    "calculate_f1_score(merged_skills_knowledge, responses)"
   ]
  },
  {
   "cell_type": "code",
   "execution_count": 15,
   "id": "bb0ce36b",
   "metadata": {},
   "outputs": [
    {
     "name": "stdout",
     "output_type": "stream",
     "text": [
      "Precision: 0.0\n",
      "Recall: 0.0\n",
      "0\n",
      "Precision: 0.625\n",
      "Recall: 0.35714285714285715\n",
      "0.45454545454545453\n",
      "Precision: 0.2727272727272727\n",
      "Recall: 0.04477611940298507\n",
      "0.07692307692307691\n",
      "Precision: 0.07142857142857142\n",
      "Recall: 0.025\n",
      "0.03703703703703704\n",
      "Precision: 0.3333333333333333\n",
      "Recall: 0.08\n",
      "0.12903225806451613\n",
      "Precision: 0.8461538461538461\n",
      "Recall: 0.2972972972972973\n",
      "0.44000000000000006\n",
      "Precision: 0.45454545454545453\n",
      "Recall: 0.2777777777777778\n",
      "0.3448275862068966\n",
      "Precision: 0.375\n",
      "Recall: 0.33962264150943394\n",
      "0.3564356435643565\n",
      "Precision: 0.3333333333333333\n",
      "Recall: 0.47368421052631576\n",
      "0.391304347826087\n",
      "Precision: 0.2\n",
      "Recall: 0.04878048780487805\n",
      "0.07843137254901962\n",
      "Failed to parse skills for row 10: invalid syntax (<unknown>, line 1)\n",
      "Precision: 0.42857142857142855\n",
      "Recall: 0.07894736842105263\n",
      "0.13333333333333333\n",
      "Precision: 0.5\n",
      "Recall: 0.15789473684210525\n",
      "0.23999999999999996\n",
      "Precision: 0.3333333333333333\n",
      "Recall: 0.15789473684210525\n",
      "0.21428571428571427\n",
      "Precision: 0.5555555555555556\n",
      "Recall: 0.22727272727272727\n",
      "0.3225806451612903\n",
      "Precision: 0.7333333333333333\n",
      "Recall: 0.2558139534883721\n",
      "0.3793103448275862\n",
      "Precision: 0.25\n",
      "Recall: 0.05405405405405406\n",
      "0.08888888888888889\n",
      "Failed to parse skills for row 17: 'set' object has no attribute 'lower'\n",
      "Precision: 1.0\n",
      "Recall: 0.2558139534883721\n",
      "0.40740740740740744\n",
      "Precision: 0.125\n",
      "Recall: 0.025\n",
      "0.04166666666666667\n",
      "Precision: 0.4\n",
      "Recall: 0.1509433962264151\n",
      "0.21917808219178084\n",
      "Precision: 0.0\n",
      "Recall: 0.0\n",
      "0\n",
      "Precision: 0.45454545454545453\n",
      "Recall: 0.11904761904761904\n",
      "0.18867924528301885\n",
      "Precision: 0.4166666666666667\n",
      "Recall: 0.11904761904761904\n",
      "0.18518518518518517\n",
      "Precision: 0.16666666666666666\n",
      "Recall: 0.05\n",
      "0.07692307692307691\n",
      "Precision: 0.45454545454545453\n",
      "Recall: 0.08620689655172414\n",
      "0.14492753623188406\n",
      "Precision: 0.7333333333333333\n",
      "Recall: 0.3333333333333333\n",
      "0.45833333333333326\n",
      "Precision: 0.5384615384615384\n",
      "Recall: 0.1590909090909091\n",
      "0.2456140350877193\n",
      "Failed to parse skills for row 28: invalid syntax (<unknown>, line 1)\n",
      "Precision: 0.16666666666666666\n",
      "Recall: 0.10256410256410256\n",
      "0.12698412698412698\n",
      "Precision: 0.07692307692307693\n",
      "Recall: 0.021739130434782608\n",
      "0.03389830508474576\n"
     ]
    },
    {
     "data": {
      "text/plain": [
       "[0,\n",
       " 0.45454545454545453,\n",
       " 0.07692307692307691,\n",
       " 0.03703703703703704,\n",
       " 0.12903225806451613,\n",
       " 0.44000000000000006,\n",
       " 0.3448275862068966,\n",
       " 0.3564356435643565,\n",
       " 0.391304347826087,\n",
       " 0.07843137254901962,\n",
       " 0.13333333333333333,\n",
       " 0.23999999999999996,\n",
       " 0.21428571428571427,\n",
       " 0.3225806451612903,\n",
       " 0.3793103448275862,\n",
       " 0.08888888888888889,\n",
       " 0.40740740740740744,\n",
       " 0.04166666666666667,\n",
       " 0.21917808219178084,\n",
       " 0,\n",
       " 0.18867924528301885,\n",
       " 0.18518518518518517,\n",
       " 0.07692307692307691,\n",
       " 0.14492753623188406,\n",
       " 0.45833333333333326,\n",
       " 0.2456140350877193,\n",
       " 0.12698412698412698,\n",
       " 0.03389830508474576]"
      ]
     },
     "execution_count": 15,
     "metadata": {},
     "output_type": "execute_result"
    }
   ],
   "source": [
    "f1_scores = []\n",
    "\n",
    "for index, row in test_tech_df.iterrows():\n",
    "    try:\n",
    "        row_merged_skills_knowledge = test_tech_df.at[index, 'skills'] + test_tech_df.at[index, 'knowledge']\n",
    "        res = get_skills_for_posting(row['text'])\n",
    "        f1_score = calculate_f1_score(row_merged_skills_knowledge, res)\n",
    "        print(f1_score)\n",
    "        f1_scores.append(f1_score)\n",
    "    except Exception as e:\n",
    "        print(f\"Failed to parse skills for row {index}: {e}\")\n",
    "        \n",
    "f1_scores"
   ]
  },
  {
   "cell_type": "code",
   "execution_count": 16,
   "id": "b179bbea",
   "metadata": {},
   "outputs": [
    {
     "data": {
      "text/plain": [
       "0.20770473941400722"
      ]
     },
     "execution_count": 16,
     "metadata": {},
     "output_type": "execute_result"
    }
   ],
   "source": [
    "sum(f1_scores) / len(f1_scores)"
   ]
  }
 ],
 "metadata": {
  "kernelspec": {
   "display_name": "skill-extraction-env",
   "language": "python",
   "name": "skill-extraction-env"
  },
  "language_info": {
   "codemirror_mode": {
    "name": "ipython",
    "version": 3
   },
   "file_extension": ".py",
   "mimetype": "text/x-python",
   "name": "python",
   "nbconvert_exporter": "python",
   "pygments_lexer": "ipython3",
   "version": "3.11.5"
  }
 },
 "nbformat": 4,
 "nbformat_minor": 5
}
