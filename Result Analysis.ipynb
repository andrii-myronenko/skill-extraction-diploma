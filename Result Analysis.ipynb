{
 "cells": [
  {
   "cell_type": "code",
   "execution_count": 51,
   "id": "f64c363d",
   "metadata": {},
   "outputs": [],
   "source": [
    "import copy\n",
    "import json\n",
    "\n",
    "filename = \"./extracted_skills/original_predictions/knowledge.tech.test.3044792.out\""
   ]
  },
  {
   "cell_type": "code",
   "execution_count": 31,
   "id": "46cb7a65",
   "metadata": {},
   "outputs": [],
   "source": [
    "def load_bio_to_json(file_path):\n",
    "    default_result = {\n",
    "        \"tokens\": [],\n",
    "        \"tags_skill\": [],\n",
    "        \"tags_knowledge\": []\n",
    "    }\n",
    "    \n",
    "    results = []\n",
    "    \n",
    "    current_result = copy.deepcopy(default_result);\n",
    "    \n",
    "    with open(file_path, 'r') as file:\n",
    "        for line in file:\n",
    "            cleaned_line = line.strip()\n",
    "            \n",
    "            if (cleaned_line == ''):\n",
    "                if (len(current_result[\"tokens\"]) != 0):\n",
    "                    results.append(current_result);\n",
    "                    current_result = copy.deepcopy(default_result);\n",
    "            else:\n",
    "                splitten_line = cleaned_line.split(\"\\t\");\n",
    "                current_result[\"tokens\"].append(splitten_line[0])\n",
    "                current_result[\"tags_skill\"].append(splitten_line[1][0])\n",
    "                current_result[\"tags_knowledge\"].append(splitten_line[2][0])\n",
    "                \n",
    "    return results;"
   ]
  },
  {
   "cell_type": "code",
   "execution_count": 33,
   "id": "ea63c718",
   "metadata": {},
   "outputs": [
    {
     "data": {
      "text/plain": [
       "[{'tokens': ['Full',\n",
       "   'Stack',\n",
       "   'Software',\n",
       "   'Engineer',\n",
       "   '-',\n",
       "   'Java',\n",
       "   '/',\n",
       "   'JavaScript'],\n",
       "  'tags_skill': ['O', 'O', 'O', 'O', 'O', 'O', 'O', 'O'],\n",
       "  'tags_knowledge': ['O', 'O', 'O', 'O', 'O', 'O', 'O', 'B']},\n",
       " {'tokens': ['<ORGANIZATION>',\n",
       "   '<ORGANIZATION>',\n",
       "   '<ORGANIZATION>',\n",
       "   '<ORGANIZATION>',\n",
       "   '.'],\n",
       "  'tags_skill': ['O', 'O', 'O', 'O', 'O'],\n",
       "  'tags_knowledge': ['O', 'O', 'O', 'O', 'O']}]"
      ]
     },
     "execution_count": 33,
     "metadata": {},
     "output_type": "execute_result"
    }
   ],
   "source": [
    "results = load_bio_to_json(filename)\n",
    "\n",
    "results[0:2]"
   ]
  },
  {
   "cell_type": "code",
   "execution_count": 42,
   "id": "5ad68a88",
   "metadata": {},
   "outputs": [
    {
     "data": {
      "text/plain": [
       "[{'tokens': ['Full',\n",
       "   'Stack',\n",
       "   'Software',\n",
       "   'Engineer',\n",
       "   '-',\n",
       "   'Java',\n",
       "   '/',\n",
       "   'JavaScript'],\n",
       "  'tags_skill': ['O', 'O', 'O', 'O', 'O', 'O', 'O', 'O'],\n",
       "  'tags_knowledge': ['O', 'O', 'O', 'O', 'O', 'O', 'O', 'B']},\n",
       " {'tokens': ['<ORGANIZATION>',\n",
       "   '<ORGANIZATION>',\n",
       "   '<ORGANIZATION>',\n",
       "   '<ORGANIZATION>',\n",
       "   '.'],\n",
       "  'tags_skill': ['O', 'O', 'O', 'O', 'O'],\n",
       "  'tags_knowledge': ['O', 'O', 'O', 'O', 'O']},\n",
       " {'tokens': ['<ADDRESS>', '<ADDRESS>', '<LOCATION>', '-', '<LOCATION>'],\n",
       "  'tags_skill': ['O', 'O', 'O', 'O', 'O'],\n",
       "  'tags_knowledge': ['O', 'O', 'O', 'O', 'O']}]"
      ]
     },
     "execution_count": 42,
     "metadata": {},
     "output_type": "execute_result"
    }
   ],
   "source": [
    "original_tech_skills = \"./extracted_skills/original_predictions/skills.tech.test.3044792.out\"\n",
    "original_tech_knowledge = \"./extracted_skills/original_predictions/knowledge.tech.test.3044792.out\"\n",
    "\n",
    "def load_and_merge(skills_path, knowledge_path):\n",
    "    skills_preds = load_bio_to_json(skills_path)\n",
    "    knowledge_preds = load_bio_to_json(knowledge_path)\n",
    "    \n",
    "    merged_preds = []\n",
    "    \n",
    "    for index, item in enumerate(skills_preds):\n",
    "        current_skills_pred = skills_preds[index]\n",
    "        current_knowledge_pred = knowledge_preds[index]\n",
    "        \n",
    "        merged_preds.append({\n",
    "            'tokens': current_skills_pred['tokens'],\n",
    "            'tags_skill': current_skills_pred[\"tags_skill\"],\n",
    "            'tags_knowledge': current_knowledge_pred[\"tags_knowledge\"]\n",
    "        })\n",
    "        \n",
    "    return merged_preds\n",
    "\n",
    "original_tech_merged = load_and_merge(original_tech_skills, original_tech_knowledge)\n",
    "\n",
    "original_tech_merged[:3]"
   ]
  },
  {
   "cell_type": "code",
   "execution_count": 44,
   "id": "d8c4e9be",
   "metadata": {},
   "outputs": [],
   "source": [
    "paths = {\n",
    "    \"original_tech_skills\": \"./extracted_skills/original_predictions/skills.tech.test.3044792.out\",\n",
    "    \"original_tech_knowledge\": \"./extracted_skills/original_predictions/knowledge.tech.test.3044792.out\",\n",
    "    \"original_house_skills\": \"./extracted_skills/original_predictions/skills.house.test.3044792.out\",\n",
    "    \"original_house_knowledge\": \"./extracted_skills/original_predictions/knowledge.house.test.3044792.out\",\n",
    "    \"enriched_tech_skills\": \"./extracted_skills/enriched_predictions/skills_enriched.tech.test.3044792.out\",\n",
    "    \"enriched_tech_knowledge\": \"./extracted_skills/enriched_predictions/knowledge_enriched.tech.test.3044792.out\",\n",
    "    \"enriched_house_skills\": \"./extracted_skills/enriched_predictions/skills_enriched.house.test.3044792.out\",\n",
    "    \"enriched_house_knowledge\": \"./extracted_skills/enriched_predictions/knowledge_enriched.house.test.3044792.out\",\n",
    "}\n",
    "\n",
    "predictions_data = {}\n",
    "\n",
    "predictions_data[\"original_tech\"] = load_and_merge(paths[\"original_tech_skills\"], paths[\"original_tech_knowledge\"])\n",
    "predictions_data[\"original_house\"] = load_and_merge(paths[\"original_house_skills\"], paths[\"original_house_knowledge\"])\n",
    "predictions_data[\"enriched_tech\"] = load_and_merge(paths[\"enriched_tech_skills\"], paths[\"enriched_tech_knowledge\"])\n",
    "predictions_data[\"enriched_house\"] = load_and_merge(paths[\"enriched_house_skills\"], paths[\"enriched_house_knowledge\"])\n",
    "\n",
    "originial"
   ]
  },
  {
   "cell_type": "code",
   "execution_count": 70,
   "id": "7a846280",
   "metadata": {},
   "outputs": [],
   "source": [
    "gold_data = {}\n",
    "\n",
    "with open(\"./data/SkillSpan/json/test.json\", 'r') as file:\n",
    "    json_data = json.load(file)\n",
    "    gold_data[\"tech\"] = [item for item in json_data if item[\"source\"] == \"tech\"]\n",
    "    gold_data[\"house\"] = [item for item in json_data if item[\"source\"] == \"house\"]"
   ]
  },
  {
   "cell_type": "code",
   "execution_count": 71,
   "id": "1c2ffa36",
   "metadata": {},
   "outputs": [
    {
     "name": "stdout",
     "output_type": "stream",
     "text": [
      "1221\n",
      "2349\n",
      "1221\n",
      "2349\n"
     ]
    }
   ],
   "source": [
    "print(len(gold_data[\"house\"]))\n",
    "print(len(gold_data[\"tech\"]))\n",
    "print(len(predictions_data[\"enriched_house\"]))\n",
    "print(len(predictions_data[\"enriched_tech\"]))"
   ]
  },
  {
   "cell_type": "code",
   "execution_count": 93,
   "id": "ffdd1ffa",
   "metadata": {},
   "outputs": [],
   "source": [
    "def is_equal(list1, list2):\n",
    "    return Counter(list1) == Counter(list2)"
   ]
  },
  {
   "cell_type": "code",
   "execution_count": 96,
   "id": "c4555b99",
   "metadata": {},
   "outputs": [
    {
     "name": "stdout",
     "output_type": "stream",
     "text": [
      "252\n",
      "303\n"
     ]
    }
   ],
   "source": [
    "from collections import Counter\n",
    "\n",
    "house_mismatches = []\n",
    "tech_mismatches = []\n",
    "\n",
    "for index, gold_item in enumerate(gold_data[\"house\"]):\n",
    "    original_pred_item = predictions_data[\"original_house\"][index]\n",
    "    enriched_pred_item = predictions_data[\"enriched_house\"][index]\n",
    "    \n",
    "    if(\n",
    "        (not is_equal(original_pred_item[\"tags_skill\"], enriched_pred_item[\"tags_skill\"])) or\n",
    "        (not is_equal(original_pred_item[\"tags_knowledge\"], enriched_pred_item[\"tags_knowledge\"]))\n",
    "    ):\n",
    "        house_mismatches.append({\n",
    "            \"gold\": gold_item,\n",
    "            \"original\": original_pred_item,\n",
    "            \"enriched\": enriched_pred_item\n",
    "        })\n",
    "        \n",
    "for index, gold_item in enumerate(gold_data[\"tech\"]):\n",
    "    original_pred_item = predictions_data[\"original_tech\"][index]\n",
    "    enriched_pred_item = predictions_data[\"enriched_tech\"][index]\n",
    "    \n",
    "    if(\n",
    "        (not is_equal(original_pred_item[\"tags_skill\"], enriched_pred_item[\"tags_skill\"])) or\n",
    "        (not is_equal(original_pred_item[\"tags_knowledge\"], enriched_pred_item[\"tags_knowledge\"]))\n",
    "    ):\n",
    "        tech_mismatches.append({\n",
    "            \"gold\": gold_item,\n",
    "            \"original\": original_pred_item,\n",
    "            \"enriched\": enriched_pred_item\n",
    "        })\n",
    "        \n",
    "print(len(house_mismatches))\n",
    "print(len(tech_mismatches))"
   ]
  },
  {
   "cell_type": "code",
   "execution_count": 102,
   "id": "dbca7174",
   "metadata": {},
   "outputs": [],
   "source": [
    "with open(\"./extracted_skills/mismatches/house.json\", 'w') as f:\n",
    "    json.dump(house_mismatches, f)"
   ]
  },
  {
   "cell_type": "code",
   "execution_count": 103,
   "id": "bdd67183",
   "metadata": {},
   "outputs": [],
   "source": [
    "with open(\"./extracted_skills/mismatches/tech.json\", 'w') as f:\n",
    "    json.dump(tech_mismatches, f)"
   ]
  },
  {
   "cell_type": "code",
   "execution_count": 4,
   "id": "5078f8c5",
   "metadata": {},
   "outputs": [
    {
     "data": {
      "text/plain": [
       "{'bigram': [0.25819888974716115, 0.3615507630310936, 0.37080992435478316],\n",
       " 'trigram': [0.07808966062765045, 0.20140620205719253, 0.21415334758254043]}"
      ]
     },
     "execution_count": 4,
     "metadata": {},
     "output_type": "execute_result"
    }
   ],
   "source": [
    "from fast_bleu import BLEU, SelfBLEU\n",
    "\n",
    "\n",
    "ref1 = ['It', 'is', 'a', 'guide', 'to', 'action', 'that',\n",
    "          'ensures', 'that', 'the', 'military', 'will', 'forever',\n",
    "          'heed', 'Party', 'commands']\n",
    "\n",
    "ref2 = ['It', 'is', 'the', 'guiding', 'principle', 'which',\n",
    "          'guarantees', 'the', 'military', 'forces', 'always',\n",
    "          'being', 'under', 'the', 'command', 'of', 'the', 'Party']\n",
    "\n",
    "ref3 = ['It', 'is', 'the', 'practical', 'guide', 'for', 'the',\n",
    "         'army', 'always', 'to', 'heed', 'the', 'directions',\n",
    "          'of', 'the', 'party']\n",
    "\n",
    "\n",
    "\n",
    "list_of_references = [ref1, ref2, ref3]\n",
    "\n",
    "weights = {'bigram': (1/2., 1/2.), 'trigram': (1/3., 1/3., 1/3.)}\n",
    "\n",
    "self_bleu = SelfBLEU(list_of_references, weights)\n",
    "\n",
    "self_bleu.get_score()"
   ]
  }
 ],
 "metadata": {
  "kernelspec": {
   "display_name": "Python 3 (ipykernel)",
   "language": "python",
   "name": "python3"
  },
  "language_info": {
   "codemirror_mode": {
    "name": "ipython",
    "version": 3
   },
   "file_extension": ".py",
   "mimetype": "text/x-python",
   "name": "python",
   "nbconvert_exporter": "python",
   "pygments_lexer": "ipython3",
   "version": "3.11.5"
  }
 },
 "nbformat": 4,
 "nbformat_minor": 5
}
