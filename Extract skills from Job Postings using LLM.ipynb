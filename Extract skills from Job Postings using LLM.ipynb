{
 "cells": [
  {
   "cell_type": "code",
   "execution_count": 1,
   "id": "b2e174eb",
   "metadata": {},
   "outputs": [
    {
     "name": "stderr",
     "output_type": "stream",
     "text": [
      "[nltk_data] Downloading package punkt to\n",
      "[nltk_data]     /Users/andriimyronenko/nltk_data...\n",
      "[nltk_data]   Package punkt is already up-to-date!\n"
     ]
    },
    {
     "data": {
      "text/plain": [
       "True"
      ]
     },
     "execution_count": 1,
     "metadata": {},
     "output_type": "execute_result"
    }
   ],
   "source": [
    "# !pip install spacy\n",
    "\n",
    "from dotenv import load_dotenv\n",
    "\n",
    "load_dotenv()\n",
    "\n",
    "import nltk\n",
    "nltk.download('punkt')"
   ]
  },
  {
   "cell_type": "code",
   "execution_count": 2,
   "id": "68508f36",
   "metadata": {},
   "outputs": [],
   "source": [
    "import pandas as pd\n",
    "\n",
    "test_tech_df = pd.read_csv('./data/merged/test_df_tech_only.csv')"
   ]
  },
  {
   "cell_type": "code",
   "execution_count": 3,
   "id": "d53b55bf",
   "metadata": {},
   "outputs": [
    {
     "name": "stdout",
     "output_type": "stream",
     "text": [
      "Full Stack Software Engineer - Java / JavaScript <ORGANIZATION> <ORGANIZATION> <ORGANIZATION> <ORGANIZATION> . <ADDRESS> <ADDRESS> <LOCATION> - <LOCATION> Date posted: 2021-03-04 Likes: 0 Dislikes: 0 Love: 0 Salary: <SALARY> Job type: FULL_TIME Experience level: <EXPERIENCE> Industry: <INDUSTRY> Company size: <SIZE> Company type: <COMPANY_TYPE> Technologies: javascript reactjs java Job description: Job type: Full-time Role: Full Stack Developer Technologies javascript reactjs java Job description As a member of our <ORGANIZATION> <ORGANIZATION> <ORGANIZATION> we look first and foremost for people who are passionate around solving business problems through innovation and engineering practices . You'll be required to apply your depth of knowledge and expertise to all aspects of the software development lifecycle as well as partner continuously with your many stakeholders on a daily basis to stay focused on common goals . We embrace a culture of experimentation and constantly strive for improvement and learning . You'll work in a collaborative trusting thought-provoking environment-one that encourages diversity of thought and creative solutions that are in the best interests of our customers globally . This opportunity requires a highly motivated candidate to work in a small and talented software development team in order to deliver of a next-generation analytics products for our institutional client base . The analytics solutions will be a commercial business in its own right so a heavy emphasis on building technology that Client's will pay for and that creates stickiness . This framework is at an early stage of development which offers an opportunity for an experienced developer to help shape the key components of the product and create commercial opportunities for a new business initiative . You will partner primarily with fellow technologists from across lines of business Product Development and Quantitative Research to build a modern and comprehensive API allowing clients to easily define and compute analytics on a wide variety of financial instruments . * • BS/BA degree or equivalent experience * • Advanced knowledge of application data and infrastructure architecture disciplines * • Understanding of architecture and design across all systems * • Working proficiency in developmental toolsets * • Knowledge of industry-wide technology strategies and best practices * • Ability to work in large collaborative teams to achieve organizational goals and passionate about building an innovative culture * • Proficiency in one or more modern programming languages - Java and Javascript preferable * • Understanding of software skills such as business analysis development maintenance and software improvement * • In-depth HTML5 / JavaScript * • Competent with developing multithreaded scalable concurrent applications . * • Node JS ( server side and tooling ) * • React or similar view framework <ORGANIZATION> <ORGANIZATION> <ORGANIZATION> is a global leader in financial services providing strategic advice and products to the world's most prominent corporations governments wealthy individuals and institutional investors . Our first-class business in a first-class way approach to serving clients drives everything we do . We strive to build trusted long-term partnerships to help our clients achieve their business objectives . We recognize that our people are our strength and the diverse talents they bring to our global workforce are directly linked to our success . We are an equal opportunity employer and place a high value on diversity and inclusion at our company . We do not discriminate on the basis of any protected attribute including race religion color national origin gender sexual orientation gender identity gender expression age marital or veteran status pregnancy or disability or any other basis protected under applicable law . In accordance with applicable law we make reasonable accommodations for applicants' and employees' religious practices and beliefs as well as any mental health or physical disability needs . Job benefits: - Company description: <DESCRIPTION>\n",
      ">>>>>>>>>>>>>>>>>>>>>>>>>>>>>>>>>>>>>>>>>>>>>>>>>>\n",
      "['solving business problems', 'apply your depth of knowledge and expertise', 'partner continuously with your many stakeholders', 'stay focused on common goals', 'motivated', 'deliver of a next-generation analytics products', 'developmental toolsets', 'work in large collaborative teams', 'achieve organizational goals', 'building an innovative culture', 'developing multithreaded scalable concurrent applications']\n",
      ">>>>>>>>>>>>>>>>>>>>>>>>>>>>>>>>>>>>>>>>>>>>>>>>>>\n",
      "['javascript', 'reactjs', 'java', 'javascript', 'reactjs', 'java', 'innovation and engineering practices', 'software development lifecycle', 'BS/BA degree', 'application data and infrastructure architecture disciplines', 'architecture', 'design', 'industry-wide technology strategies and best practices', 'Java', 'Javascript', 'business analysis', 'development', 'maintenance', 'software improvement', 'HTML5', 'JavaScript', 'Node JS ( server side and tooling ) *', 'React']\n"
     ]
    }
   ],
   "source": [
    "print(test_tech_df.at[0, 'text'])\n",
    "print('>>>>>>>>>>>>>>>>>>>>>>>>>>>>>>>>>>>>>>>>>>>>>>>>>>')\n",
    "print(test_tech_df.at[0, 'skills'])\n",
    "print('>>>>>>>>>>>>>>>>>>>>>>>>>>>>>>>>>>>>>>>>>>>>>>>>>>')\n",
    "print(test_tech_df.at[0, 'knowledge'])"
   ]
  },
  {
   "cell_type": "code",
   "execution_count": 4,
   "id": "836ebc13",
   "metadata": {},
   "outputs": [
    {
     "data": {
      "text/plain": [
       "(31, 5)"
      ]
     },
     "execution_count": 4,
     "metadata": {},
     "output_type": "execute_result"
    }
   ],
   "source": [
    "test_tech_df.shape"
   ]
  },
  {
   "cell_type": "code",
   "execution_count": 5,
   "id": "08ce493d",
   "metadata": {},
   "outputs": [],
   "source": [
    "verbose_template = \"\"\"\n",
    "You are a top-notch recruiter and data labeler.\n",
    "Your task is to thoroughly analyze the following part of a job posting and extract text spans including skills or knowledge.\n",
    "\n",
    "You should use the following guideline for annotation:\n",
    "\n",
    "Instruction for Annotating Text for Skills and Knowledge Components\n",
    "Objective: Identify and annotate spans of text in job postings (JPs) that represent specific skills or knowledge required for the position.\n",
    "\n",
    "1. Identifying Skills:\n",
    "\n",
    "General Rule: A skill is usually indicated by a VERB or an (ADJECTIVE) + NOUN combination.\n",
    "Exclusion of Modal Verbs: Do not tag modal verbs (e.g., can, will) as part of the skill.\n",
    "Phrase Separation: Split phrases containing prepositions and/or conjunctions, except when conjunctions coordinate two nouns as a single argument.\n",
    "Handling Anaphoric Pronouns: Avoid tagging skills with anaphoric pronouns. Only tag the preceding skill.\n",
    "Splitting Coordinated Components: Split nouns and adjectives in coordination if they lack a verb.\n",
    "Listing of Skills: If skills are listed leading to different subtasks, annotate each separately.\n",
    "Brevity in Contextual Information: Keep skill annotations concise, especially when followed by company-specific info.\n",
    "Inclusion of 'skills' or 'knowledge' in Tags: Include these words in the annotation if their omission alters the meaning.\n",
    "Parenthetical Information: Include if it elaborates on the skill or is an abbreviation.\n",
    "Adverbial Inclusion: Include adverbials that describe the manner of doing something.\n",
    "Attitudes as Skills: Annotate attitudes as skills, omitting articles.\n",
    "Exclusions:\n",
    "Avoid tagging ironic skills.\n",
    "Avoid nested annotations; use one span for overlapping skills.\n",
    "Do not tag skills in top headlines, but do tag in sub-headlines and body text.\n",
    "Exclude fluff and triggers surrounding the skill component.\n",
    "Exclude participation, contributing, and transfer expressions from skill annotations.\n",
    "Do not annotate occupations or positions.\n",
    "Focus on skills related and specific to the position.\n",
    "\n",
    "2. Identifying Knowledge:\n",
    "General Rule: Knowledge is non-executable and possessed by an individual.\n",
    "Inclusion of Parenthetical Information: Include if it is related to the knowledge component.\n",
    "Licenses and Certifications: Include additional words like \"certificate,\" \"license,\" etc.\n",
    "Vague Preceding Verbs: Only tag the knowledge component if preceded by a vague verb.\n",
    "Specificity: Annotate only specified knowledge components.\n",
    "Nested Knowledge in Skills: Knowledge components can be nested within skill annotations.\n",
    "Coordination of Knowledge Components: Annotate as one if all components share one knowledge tag.\n",
    "Listing Knowledge Tags: Annotate all knowledge tags separately.\n",
    "Annotation of Industries and Fields: Tag these as knowledge components.\n",
    "\n",
    "3. Prioritization and Other Considerations:\n",
    "Prefer skills over knowledge in uncertain cases.\n",
    "Prioritize skills over attitudes; only tag the skill within an attitude.\n",
    "Keep annotations concise and relevant to the job.\n",
    "Annotate skills and knowledge in unconventional places if related to the position.\n",
    "Consider annotating a combination of skill and knowledge when applicable.\n",
    "Exclude knowledge/skill components in positions.\n",
    "Focus on annotations relevant to the specific position and its future expectations.\n",
    "\n",
    "Output just the JSON array, wihtout any other text. \n",
    "Start your response with \"[\" symbol, and finish with \"]\".\n",
    "Make sure your response doesn't include anything else.\n",
    "\n",
    "Job posting:\n",
    "{job_posting}\n",
    "\n",
    "Response:\"\"\"\n",
    "\n",
    "short_template = \"\"\"\n",
    "    You are a top-notch recruiter and data labeler.\n",
    "    Your task is to thoroughly analyze the following part of a job posting and extract text spans including skills and knowledge.\n",
    "    A skill in a job context is typically indicated by a verb or an adjective-noun combination, reflecting an executable ability or a specific way of performing a task. \n",
    "    Knowledge, on the other hand, refers to non-executable information that an individual possesses, often indicated by specific fields, industries, or certifications, and is distinct from direct action or skills.\n",
    "\n",
    "    Output the JSON array, wihtout any other text. \n",
    "    Start your response with \"[\" symbol, and finish with \"]\".\n",
    "    Make sure your response doesn't include anything else.\n",
    "        \n",
    "    Job posting:\n",
    "    {job_posting}\n",
    "\"\"\"\n",
    "\n",
    "few_shot_template = \"\"\"\n",
    "    You are a top-notch recruiter and data labeler.\n",
    "    Your task is to thoroughly analyze the following part of a job posting and extract text spans including job-related skills or knowledge.\n",
    "    A skill in a job context is typically indicated by a verb or an adjective-noun combination, reflecting an executable ability or a specific way of performing a task. \n",
    "    Knowledge, on the other hand, refers to non-executable information that an individual possesses, often indicated by specific fields, industries, or certifications, and is distinct from direct action or skills.\n",
    "    \n",
    "    Below you can see some examples. Pay attention to what is included in detected spans. We want not to include false positive skills and knowledge.\n",
    "\n",
    "    Job posting:\n",
    "    Ability to work in large collaborative teams to achieve organizational goals\n",
    "    Detected spans:\n",
    "    [\"work in large collaborative teams\"]\n",
    "\n",
    "    Job posting:\n",
    "    Work hands-on together with the other engineers within the Agile team \n",
    "    Detected spans:\n",
    "    [\"Work hands-on\"]\n",
    "    \n",
    "    Job posting:\n",
    "    Requirements At least 5 years of combined experience in Java or Kotlin and JavaScript or TypeScript programming and related test frameworks ( Selenium TestCafe etc.) .\n",
    "    Detected spans:\n",
    "    [\"Java\", \"Kotlin\", \"JavaScript\", \"Typescript\"]\n",
    "    \n",
    "    Job posting:\n",
    "    A degree in Computer Science or related fields or equivalent practical experience . \n",
    "    Detected spans:\n",
    "    [\"degree in Computer Science\"]\n",
    "    \n",
    "    Job posting:\n",
    "    Experience in working on a cloud-based application running on Docker .\n",
    "    Detected spans:\n",
    "    [\"Docker\", \"working on a cloud-based application\"]\n",
    "    \n",
    "    Make sure to never include protected attributes like gender identity or veteran status in the returned list:\n",
    "    \n",
    "    Job posting:\n",
    "    We do not discriminate on the basis of any protected attribute including race religion color national origin gender sexual orientation .\n",
    "    Detected spans:\n",
    "    []\n",
    "\n",
    "    Output just the JSON array, wihtout any other text. \n",
    "    Start your response with \"[\" symbol, and finish with \"]\".\n",
    "    Make sure your response doesn't include data from examples and anything else except from JSON array.\n",
    "    Return empty array If there are no obvious skill and knowledge spans in the given posting.\n",
    "    \n",
    "    Job posting:\n",
    "    {job_posting}\n",
    "    Detected spans:\n",
    "\"\"\"\n",
    "\n",
    "template_collection = {\n",
    "    'verbose': verbose_template,\n",
    "    'short': short_template,\n",
    "    'few_shot': few_shot_template\n",
    "}"
   ]
  },
  {
   "cell_type": "code",
   "execution_count": 6,
   "id": "79de0caa",
   "metadata": {},
   "outputs": [],
   "source": [
    "from langchain import LLMChain, PromptTemplate\n",
    "from langchain.output_parsers import StructuredOutputParser, ResponseSchema\n",
    "from langchain.prompts import PromptTemplate, ChatPromptTemplate, HumanMessagePromptTemplate\n",
    "from langchain.llms import OpenAI\n",
    "from langchain.chat_models import ChatOpenAI\n",
    "\n",
    "prompt_template = PromptTemplate(input_variables=[\"job_posting\"], template=template_collection['few_shot'])"
   ]
  },
  {
   "cell_type": "code",
   "execution_count": 7,
   "id": "f9dd32b0",
   "metadata": {},
   "outputs": [],
   "source": [
    "from langchain.llms.fireworks import Fireworks \n",
    "\n",
    "llm = Fireworks(model=\"accounts/fireworks/models/llama-v2-70b-chat\", max_tokens=-1, top_p=0.6)"
   ]
  },
  {
   "cell_type": "code",
   "execution_count": 8,
   "id": "92f1dfab",
   "metadata": {},
   "outputs": [
    {
     "ename": "InvalidRequestError",
     "evalue": "{'error': 'Credit limit reached. Please set up (additional) payment at https://app.fireworks.ai/users?tab=billing.'}",
     "output_type": "error",
     "traceback": [
      "\u001b[0;31m---------------------------------------------------------------------------\u001b[0m",
      "\u001b[0;31mInvalidRequestError\u001b[0m                       Traceback (most recent call last)",
      "Cell \u001b[0;32mIn[8], line 14\u001b[0m\n\u001b[1;32m     11\u001b[0m     array_string \u001b[38;5;241m=\u001b[39m output[array_start:array_end\u001b[38;5;241m+\u001b[39m\u001b[38;5;241m1\u001b[39m]\u001b[38;5;241m.\u001b[39mstrip()\n\u001b[1;32m     12\u001b[0m     \u001b[38;5;28;01mreturn\u001b[39;00m ast\u001b[38;5;241m.\u001b[39mliteral_eval(array_string)\n\u001b[0;32m---> 14\u001b[0m llama_results \u001b[38;5;241m=\u001b[39m get_skills_for_posting(test_posting)\n\u001b[1;32m     15\u001b[0m llama_results\n",
      "Cell \u001b[0;32mIn[8], line 8\u001b[0m, in \u001b[0;36mget_skills_for_posting\u001b[0;34m(job_posting)\u001b[0m\n\u001b[1;32m      6\u001b[0m prompt_val \u001b[38;5;241m=\u001b[39m prompt_template\u001b[38;5;241m.\u001b[39minvoke({\u001b[38;5;124m\"\u001b[39m\u001b[38;5;124mjob_posting\u001b[39m\u001b[38;5;124m\"\u001b[39m: test_posting})\n\u001b[1;32m      7\u001b[0m prompt \u001b[38;5;241m=\u001b[39m prompt_val\u001b[38;5;241m.\u001b[39mto_string()\n\u001b[0;32m----> 8\u001b[0m output \u001b[38;5;241m=\u001b[39m llm(prompt)\n\u001b[1;32m      9\u001b[0m array_start \u001b[38;5;241m=\u001b[39m output\u001b[38;5;241m.\u001b[39mfind(\u001b[38;5;124m'\u001b[39m\u001b[38;5;124m[\u001b[39m\u001b[38;5;124m'\u001b[39m)\n\u001b[1;32m     10\u001b[0m array_end \u001b[38;5;241m=\u001b[39m output\u001b[38;5;241m.\u001b[39mfind(\u001b[38;5;124m'\u001b[39m\u001b[38;5;124m]\u001b[39m\u001b[38;5;124m'\u001b[39m, array_start)\n",
      "File \u001b[0;32m~/anaconda3/envs/skill-extraction/lib/python3.11/site-packages/langchain/llms/base.py:870\u001b[0m, in \u001b[0;36mBaseLLM.__call__\u001b[0;34m(self, prompt, stop, callbacks, tags, metadata, **kwargs)\u001b[0m\n\u001b[1;32m    863\u001b[0m \u001b[38;5;28;01mif\u001b[39;00m \u001b[38;5;129;01mnot\u001b[39;00m \u001b[38;5;28misinstance\u001b[39m(prompt, \u001b[38;5;28mstr\u001b[39m):\n\u001b[1;32m    864\u001b[0m     \u001b[38;5;28;01mraise\u001b[39;00m \u001b[38;5;167;01mValueError\u001b[39;00m(\n\u001b[1;32m    865\u001b[0m         \u001b[38;5;124m\"\u001b[39m\u001b[38;5;124mArgument `prompt` is expected to be a string. Instead found \u001b[39m\u001b[38;5;124m\"\u001b[39m\n\u001b[1;32m    866\u001b[0m         \u001b[38;5;124mf\u001b[39m\u001b[38;5;124m\"\u001b[39m\u001b[38;5;132;01m{\u001b[39;00m\u001b[38;5;28mtype\u001b[39m(prompt)\u001b[38;5;132;01m}\u001b[39;00m\u001b[38;5;124m. If you want to run the LLM on multiple prompts, use \u001b[39m\u001b[38;5;124m\"\u001b[39m\n\u001b[1;32m    867\u001b[0m         \u001b[38;5;124m\"\u001b[39m\u001b[38;5;124m`generate` instead.\u001b[39m\u001b[38;5;124m\"\u001b[39m\n\u001b[1;32m    868\u001b[0m     )\n\u001b[1;32m    869\u001b[0m \u001b[38;5;28;01mreturn\u001b[39;00m (\n\u001b[0;32m--> 870\u001b[0m     \u001b[38;5;28mself\u001b[39m\u001b[38;5;241m.\u001b[39mgenerate(\n\u001b[1;32m    871\u001b[0m         [prompt],\n\u001b[1;32m    872\u001b[0m         stop\u001b[38;5;241m=\u001b[39mstop,\n\u001b[1;32m    873\u001b[0m         callbacks\u001b[38;5;241m=\u001b[39mcallbacks,\n\u001b[1;32m    874\u001b[0m         tags\u001b[38;5;241m=\u001b[39mtags,\n\u001b[1;32m    875\u001b[0m         metadata\u001b[38;5;241m=\u001b[39mmetadata,\n\u001b[1;32m    876\u001b[0m         \u001b[38;5;241m*\u001b[39m\u001b[38;5;241m*\u001b[39mkwargs,\n\u001b[1;32m    877\u001b[0m     )\n\u001b[1;32m    878\u001b[0m     \u001b[38;5;241m.\u001b[39mgenerations[\u001b[38;5;241m0\u001b[39m][\u001b[38;5;241m0\u001b[39m]\n\u001b[1;32m    879\u001b[0m     \u001b[38;5;241m.\u001b[39mtext\n\u001b[1;32m    880\u001b[0m )\n",
      "File \u001b[0;32m~/anaconda3/envs/skill-extraction/lib/python3.11/site-packages/langchain/llms/base.py:650\u001b[0m, in \u001b[0;36mBaseLLM.generate\u001b[0;34m(self, prompts, stop, callbacks, tags, metadata, run_name, **kwargs)\u001b[0m\n\u001b[1;32m    635\u001b[0m         \u001b[38;5;28;01mraise\u001b[39;00m \u001b[38;5;167;01mValueError\u001b[39;00m(\n\u001b[1;32m    636\u001b[0m             \u001b[38;5;124m\"\u001b[39m\u001b[38;5;124mAsked to cache, but no cache found at `langchain.cache`.\u001b[39m\u001b[38;5;124m\"\u001b[39m\n\u001b[1;32m    637\u001b[0m         )\n\u001b[1;32m    638\u001b[0m     run_managers \u001b[38;5;241m=\u001b[39m [\n\u001b[1;32m    639\u001b[0m         callback_manager\u001b[38;5;241m.\u001b[39mon_llm_start(\n\u001b[1;32m    640\u001b[0m             dumpd(\u001b[38;5;28mself\u001b[39m),\n\u001b[0;32m   (...)\u001b[0m\n\u001b[1;32m    648\u001b[0m         )\n\u001b[1;32m    649\u001b[0m     ]\n\u001b[0;32m--> 650\u001b[0m     output \u001b[38;5;241m=\u001b[39m \u001b[38;5;28mself\u001b[39m\u001b[38;5;241m.\u001b[39m_generate_helper(\n\u001b[1;32m    651\u001b[0m         prompts, stop, run_managers, \u001b[38;5;28mbool\u001b[39m(new_arg_supported), \u001b[38;5;241m*\u001b[39m\u001b[38;5;241m*\u001b[39mkwargs\n\u001b[1;32m    652\u001b[0m     )\n\u001b[1;32m    653\u001b[0m     \u001b[38;5;28;01mreturn\u001b[39;00m output\n\u001b[1;32m    654\u001b[0m \u001b[38;5;28;01mif\u001b[39;00m \u001b[38;5;28mlen\u001b[39m(missing_prompts) \u001b[38;5;241m>\u001b[39m \u001b[38;5;241m0\u001b[39m:\n",
      "File \u001b[0;32m~/anaconda3/envs/skill-extraction/lib/python3.11/site-packages/langchain/llms/base.py:538\u001b[0m, in \u001b[0;36mBaseLLM._generate_helper\u001b[0;34m(self, prompts, stop, run_managers, new_arg_supported, **kwargs)\u001b[0m\n\u001b[1;32m    536\u001b[0m     \u001b[38;5;28;01mfor\u001b[39;00m run_manager \u001b[38;5;129;01min\u001b[39;00m run_managers:\n\u001b[1;32m    537\u001b[0m         run_manager\u001b[38;5;241m.\u001b[39mon_llm_error(e)\n\u001b[0;32m--> 538\u001b[0m     \u001b[38;5;28;01mraise\u001b[39;00m e\n\u001b[1;32m    539\u001b[0m flattened_outputs \u001b[38;5;241m=\u001b[39m output\u001b[38;5;241m.\u001b[39mflatten()\n\u001b[1;32m    540\u001b[0m \u001b[38;5;28;01mfor\u001b[39;00m manager, flattened_output \u001b[38;5;129;01min\u001b[39;00m \u001b[38;5;28mzip\u001b[39m(run_managers, flattened_outputs):\n",
      "File \u001b[0;32m~/anaconda3/envs/skill-extraction/lib/python3.11/site-packages/langchain/llms/base.py:525\u001b[0m, in \u001b[0;36mBaseLLM._generate_helper\u001b[0;34m(self, prompts, stop, run_managers, new_arg_supported, **kwargs)\u001b[0m\n\u001b[1;32m    515\u001b[0m \u001b[38;5;28;01mdef\u001b[39;00m \u001b[38;5;21m_generate_helper\u001b[39m(\n\u001b[1;32m    516\u001b[0m     \u001b[38;5;28mself\u001b[39m,\n\u001b[1;32m    517\u001b[0m     prompts: List[\u001b[38;5;28mstr\u001b[39m],\n\u001b[0;32m   (...)\u001b[0m\n\u001b[1;32m    521\u001b[0m     \u001b[38;5;241m*\u001b[39m\u001b[38;5;241m*\u001b[39mkwargs: Any,\n\u001b[1;32m    522\u001b[0m ) \u001b[38;5;241m-\u001b[39m\u001b[38;5;241m>\u001b[39m LLMResult:\n\u001b[1;32m    523\u001b[0m     \u001b[38;5;28;01mtry\u001b[39;00m:\n\u001b[1;32m    524\u001b[0m         output \u001b[38;5;241m=\u001b[39m (\n\u001b[0;32m--> 525\u001b[0m             \u001b[38;5;28mself\u001b[39m\u001b[38;5;241m.\u001b[39m_generate(\n\u001b[1;32m    526\u001b[0m                 prompts,\n\u001b[1;32m    527\u001b[0m                 stop\u001b[38;5;241m=\u001b[39mstop,\n\u001b[1;32m    528\u001b[0m                 \u001b[38;5;66;03m# TODO: support multiple run managers\u001b[39;00m\n\u001b[1;32m    529\u001b[0m                 run_manager\u001b[38;5;241m=\u001b[39mrun_managers[\u001b[38;5;241m0\u001b[39m] \u001b[38;5;28;01mif\u001b[39;00m run_managers \u001b[38;5;28;01melse\u001b[39;00m \u001b[38;5;28;01mNone\u001b[39;00m,\n\u001b[1;32m    530\u001b[0m                 \u001b[38;5;241m*\u001b[39m\u001b[38;5;241m*\u001b[39mkwargs,\n\u001b[1;32m    531\u001b[0m             )\n\u001b[1;32m    532\u001b[0m             \u001b[38;5;28;01mif\u001b[39;00m new_arg_supported\n\u001b[1;32m    533\u001b[0m             \u001b[38;5;28;01melse\u001b[39;00m \u001b[38;5;28mself\u001b[39m\u001b[38;5;241m.\u001b[39m_generate(prompts, stop\u001b[38;5;241m=\u001b[39mstop)\n\u001b[1;32m    534\u001b[0m         )\n\u001b[1;32m    535\u001b[0m     \u001b[38;5;28;01mexcept\u001b[39;00m \u001b[38;5;167;01mBaseException\u001b[39;00m \u001b[38;5;28;01mas\u001b[39;00m e:\n\u001b[1;32m    536\u001b[0m         \u001b[38;5;28;01mfor\u001b[39;00m run_manager \u001b[38;5;129;01min\u001b[39;00m run_managers:\n",
      "File \u001b[0;32m~/anaconda3/envs/skill-extraction/lib/python3.11/site-packages/langchain/llms/fireworks.py:95\u001b[0m, in \u001b[0;36mFireworks._generate\u001b[0;34m(self, prompts, stop, run_manager, **kwargs)\u001b[0m\n\u001b[1;32m     93\u001b[0m choices \u001b[38;5;241m=\u001b[39m []\n\u001b[1;32m     94\u001b[0m \u001b[38;5;28;01mfor\u001b[39;00m _prompts \u001b[38;5;129;01min\u001b[39;00m sub_prompts:\n\u001b[0;32m---> 95\u001b[0m     response \u001b[38;5;241m=\u001b[39m completion_with_retry_batching(\n\u001b[1;32m     96\u001b[0m         \u001b[38;5;28mself\u001b[39m,\n\u001b[1;32m     97\u001b[0m         \u001b[38;5;28mself\u001b[39m\u001b[38;5;241m.\u001b[39muse_retry,\n\u001b[1;32m     98\u001b[0m         prompt\u001b[38;5;241m=\u001b[39m_prompts,\n\u001b[1;32m     99\u001b[0m         run_manager\u001b[38;5;241m=\u001b[39mrun_manager,\n\u001b[1;32m    100\u001b[0m         stop\u001b[38;5;241m=\u001b[39mstop,\n\u001b[1;32m    101\u001b[0m         \u001b[38;5;241m*\u001b[39m\u001b[38;5;241m*\u001b[39mparams,\n\u001b[1;32m    102\u001b[0m     )\n\u001b[1;32m    103\u001b[0m     choices\u001b[38;5;241m.\u001b[39mextend(response)\n\u001b[1;32m    105\u001b[0m \u001b[38;5;28;01mreturn\u001b[39;00m \u001b[38;5;28mself\u001b[39m\u001b[38;5;241m.\u001b[39mcreate_llm_result(choices, prompts)\n",
      "File \u001b[0;32m~/anaconda3/envs/skill-extraction/lib/python3.11/site-packages/langchain/llms/fireworks.py:281\u001b[0m, in \u001b[0;36mcompletion_with_retry_batching\u001b[0;34m(llm, use_retry, run_manager, **kwargs)\u001b[0m\n\u001b[1;32m    278\u001b[0m         results \u001b[38;5;241m=\u001b[39m \u001b[38;5;28mlist\u001b[39m(executor\u001b[38;5;241m.\u001b[39mmap(_completion_with_retry, prompt))\n\u001b[1;32m    279\u001b[0m     \u001b[38;5;28;01mreturn\u001b[39;00m results\n\u001b[0;32m--> 281\u001b[0m \u001b[38;5;28;01mreturn\u001b[39;00m batch_sync_run()\n",
      "File \u001b[0;32m~/anaconda3/envs/skill-extraction/lib/python3.11/site-packages/langchain/llms/fireworks.py:278\u001b[0m, in \u001b[0;36mcompletion_with_retry_batching.<locals>.batch_sync_run\u001b[0;34m()\u001b[0m\n\u001b[1;32m    276\u001b[0m \u001b[38;5;28;01mdef\u001b[39;00m \u001b[38;5;21mbatch_sync_run\u001b[39m() \u001b[38;5;241m-\u001b[39m\u001b[38;5;241m>\u001b[39m List:\n\u001b[1;32m    277\u001b[0m     \u001b[38;5;28;01mwith\u001b[39;00m ThreadPoolExecutor() \u001b[38;5;28;01mas\u001b[39;00m executor:\n\u001b[0;32m--> 278\u001b[0m         results \u001b[38;5;241m=\u001b[39m \u001b[38;5;28mlist\u001b[39m(executor\u001b[38;5;241m.\u001b[39mmap(_completion_with_retry, prompt))\n\u001b[1;32m    279\u001b[0m     \u001b[38;5;28;01mreturn\u001b[39;00m results\n",
      "File \u001b[0;32m~/anaconda3/envs/skill-extraction/lib/python3.11/concurrent/futures/_base.py:619\u001b[0m, in \u001b[0;36mExecutor.map.<locals>.result_iterator\u001b[0;34m()\u001b[0m\n\u001b[1;32m    616\u001b[0m \u001b[38;5;28;01mwhile\u001b[39;00m fs:\n\u001b[1;32m    617\u001b[0m     \u001b[38;5;66;03m# Careful not to keep a reference to the popped future\u001b[39;00m\n\u001b[1;32m    618\u001b[0m     \u001b[38;5;28;01mif\u001b[39;00m timeout \u001b[38;5;129;01mis\u001b[39;00m \u001b[38;5;28;01mNone\u001b[39;00m:\n\u001b[0;32m--> 619\u001b[0m         \u001b[38;5;28;01myield\u001b[39;00m _result_or_cancel(fs\u001b[38;5;241m.\u001b[39mpop())\n\u001b[1;32m    620\u001b[0m     \u001b[38;5;28;01melse\u001b[39;00m:\n\u001b[1;32m    621\u001b[0m         \u001b[38;5;28;01myield\u001b[39;00m _result_or_cancel(fs\u001b[38;5;241m.\u001b[39mpop(), end_time \u001b[38;5;241m-\u001b[39m time\u001b[38;5;241m.\u001b[39mmonotonic())\n",
      "File \u001b[0;32m~/anaconda3/envs/skill-extraction/lib/python3.11/concurrent/futures/_base.py:317\u001b[0m, in \u001b[0;36m_result_or_cancel\u001b[0;34m(***failed resolving arguments***)\u001b[0m\n\u001b[1;32m    315\u001b[0m \u001b[38;5;28;01mtry\u001b[39;00m:\n\u001b[1;32m    316\u001b[0m     \u001b[38;5;28;01mtry\u001b[39;00m:\n\u001b[0;32m--> 317\u001b[0m         \u001b[38;5;28;01mreturn\u001b[39;00m fut\u001b[38;5;241m.\u001b[39mresult(timeout)\n\u001b[1;32m    318\u001b[0m     \u001b[38;5;28;01mfinally\u001b[39;00m:\n\u001b[1;32m    319\u001b[0m         fut\u001b[38;5;241m.\u001b[39mcancel()\n",
      "File \u001b[0;32m~/anaconda3/envs/skill-extraction/lib/python3.11/concurrent/futures/_base.py:456\u001b[0m, in \u001b[0;36mFuture.result\u001b[0;34m(self, timeout)\u001b[0m\n\u001b[1;32m    454\u001b[0m     \u001b[38;5;28;01mraise\u001b[39;00m CancelledError()\n\u001b[1;32m    455\u001b[0m \u001b[38;5;28;01melif\u001b[39;00m \u001b[38;5;28mself\u001b[39m\u001b[38;5;241m.\u001b[39m_state \u001b[38;5;241m==\u001b[39m FINISHED:\n\u001b[0;32m--> 456\u001b[0m     \u001b[38;5;28;01mreturn\u001b[39;00m \u001b[38;5;28mself\u001b[39m\u001b[38;5;241m.\u001b[39m__get_result()\n\u001b[1;32m    457\u001b[0m \u001b[38;5;28;01melse\u001b[39;00m:\n\u001b[1;32m    458\u001b[0m     \u001b[38;5;28;01mraise\u001b[39;00m \u001b[38;5;167;01mTimeoutError\u001b[39;00m()\n",
      "File \u001b[0;32m~/anaconda3/envs/skill-extraction/lib/python3.11/concurrent/futures/_base.py:401\u001b[0m, in \u001b[0;36mFuture.__get_result\u001b[0;34m(self)\u001b[0m\n\u001b[1;32m    399\u001b[0m \u001b[38;5;28;01mif\u001b[39;00m \u001b[38;5;28mself\u001b[39m\u001b[38;5;241m.\u001b[39m_exception:\n\u001b[1;32m    400\u001b[0m     \u001b[38;5;28;01mtry\u001b[39;00m:\n\u001b[0;32m--> 401\u001b[0m         \u001b[38;5;28;01mraise\u001b[39;00m \u001b[38;5;28mself\u001b[39m\u001b[38;5;241m.\u001b[39m_exception\n\u001b[1;32m    402\u001b[0m     \u001b[38;5;28;01mfinally\u001b[39;00m:\n\u001b[1;32m    403\u001b[0m         \u001b[38;5;66;03m# Break a reference cycle with the exception in self._exception\u001b[39;00m\n\u001b[1;32m    404\u001b[0m         \u001b[38;5;28mself\u001b[39m \u001b[38;5;241m=\u001b[39m \u001b[38;5;28;01mNone\u001b[39;00m\n",
      "File \u001b[0;32m~/anaconda3/envs/skill-extraction/lib/python3.11/concurrent/futures/thread.py:58\u001b[0m, in \u001b[0;36m_WorkItem.run\u001b[0;34m(self)\u001b[0m\n\u001b[1;32m     55\u001b[0m     \u001b[38;5;28;01mreturn\u001b[39;00m\n\u001b[1;32m     57\u001b[0m \u001b[38;5;28;01mtry\u001b[39;00m:\n\u001b[0;32m---> 58\u001b[0m     result \u001b[38;5;241m=\u001b[39m \u001b[38;5;28mself\u001b[39m\u001b[38;5;241m.\u001b[39mfn(\u001b[38;5;241m*\u001b[39m\u001b[38;5;28mself\u001b[39m\u001b[38;5;241m.\u001b[39margs, \u001b[38;5;241m*\u001b[39m\u001b[38;5;241m*\u001b[39m\u001b[38;5;28mself\u001b[39m\u001b[38;5;241m.\u001b[39mkwargs)\n\u001b[1;32m     59\u001b[0m \u001b[38;5;28;01mexcept\u001b[39;00m \u001b[38;5;167;01mBaseException\u001b[39;00m \u001b[38;5;28;01mas\u001b[39;00m exc:\n\u001b[1;32m     60\u001b[0m     \u001b[38;5;28mself\u001b[39m\u001b[38;5;241m.\u001b[39mfuture\u001b[38;5;241m.\u001b[39mset_exception(exc)\n",
      "File \u001b[0;32m~/anaconda3/envs/skill-extraction/lib/python3.11/site-packages/tenacity/__init__.py:289\u001b[0m, in \u001b[0;36mBaseRetrying.wraps.<locals>.wrapped_f\u001b[0;34m(*args, **kw)\u001b[0m\n\u001b[1;32m    287\u001b[0m \u001b[38;5;129m@functools\u001b[39m\u001b[38;5;241m.\u001b[39mwraps(f)\n\u001b[1;32m    288\u001b[0m \u001b[38;5;28;01mdef\u001b[39;00m \u001b[38;5;21mwrapped_f\u001b[39m(\u001b[38;5;241m*\u001b[39margs: t\u001b[38;5;241m.\u001b[39mAny, \u001b[38;5;241m*\u001b[39m\u001b[38;5;241m*\u001b[39mkw: t\u001b[38;5;241m.\u001b[39mAny) \u001b[38;5;241m-\u001b[39m\u001b[38;5;241m>\u001b[39m t\u001b[38;5;241m.\u001b[39mAny:\n\u001b[0;32m--> 289\u001b[0m     \u001b[38;5;28;01mreturn\u001b[39;00m \u001b[38;5;28mself\u001b[39m(f, \u001b[38;5;241m*\u001b[39margs, \u001b[38;5;241m*\u001b[39m\u001b[38;5;241m*\u001b[39mkw)\n",
      "File \u001b[0;32m~/anaconda3/envs/skill-extraction/lib/python3.11/site-packages/tenacity/__init__.py:379\u001b[0m, in \u001b[0;36mRetrying.__call__\u001b[0;34m(self, fn, *args, **kwargs)\u001b[0m\n\u001b[1;32m    377\u001b[0m retry_state \u001b[38;5;241m=\u001b[39m RetryCallState(retry_object\u001b[38;5;241m=\u001b[39m\u001b[38;5;28mself\u001b[39m, fn\u001b[38;5;241m=\u001b[39mfn, args\u001b[38;5;241m=\u001b[39margs, kwargs\u001b[38;5;241m=\u001b[39mkwargs)\n\u001b[1;32m    378\u001b[0m \u001b[38;5;28;01mwhile\u001b[39;00m \u001b[38;5;28;01mTrue\u001b[39;00m:\n\u001b[0;32m--> 379\u001b[0m     do \u001b[38;5;241m=\u001b[39m \u001b[38;5;28mself\u001b[39m\u001b[38;5;241m.\u001b[39miter(retry_state\u001b[38;5;241m=\u001b[39mretry_state)\n\u001b[1;32m    380\u001b[0m     \u001b[38;5;28;01mif\u001b[39;00m \u001b[38;5;28misinstance\u001b[39m(do, DoAttempt):\n\u001b[1;32m    381\u001b[0m         \u001b[38;5;28;01mtry\u001b[39;00m:\n",
      "File \u001b[0;32m~/anaconda3/envs/skill-extraction/lib/python3.11/site-packages/tenacity/__init__.py:314\u001b[0m, in \u001b[0;36mBaseRetrying.iter\u001b[0;34m(self, retry_state)\u001b[0m\n\u001b[1;32m    312\u001b[0m is_explicit_retry \u001b[38;5;241m=\u001b[39m fut\u001b[38;5;241m.\u001b[39mfailed \u001b[38;5;129;01mand\u001b[39;00m \u001b[38;5;28misinstance\u001b[39m(fut\u001b[38;5;241m.\u001b[39mexception(), TryAgain)\n\u001b[1;32m    313\u001b[0m \u001b[38;5;28;01mif\u001b[39;00m \u001b[38;5;129;01mnot\u001b[39;00m (is_explicit_retry \u001b[38;5;129;01mor\u001b[39;00m \u001b[38;5;28mself\u001b[39m\u001b[38;5;241m.\u001b[39mretry(retry_state)):\n\u001b[0;32m--> 314\u001b[0m     \u001b[38;5;28;01mreturn\u001b[39;00m fut\u001b[38;5;241m.\u001b[39mresult()\n\u001b[1;32m    316\u001b[0m \u001b[38;5;28;01mif\u001b[39;00m \u001b[38;5;28mself\u001b[39m\u001b[38;5;241m.\u001b[39mafter \u001b[38;5;129;01mis\u001b[39;00m \u001b[38;5;129;01mnot\u001b[39;00m \u001b[38;5;28;01mNone\u001b[39;00m:\n\u001b[1;32m    317\u001b[0m     \u001b[38;5;28mself\u001b[39m\u001b[38;5;241m.\u001b[39mafter(retry_state)\n",
      "File \u001b[0;32m~/anaconda3/envs/skill-extraction/lib/python3.11/concurrent/futures/_base.py:449\u001b[0m, in \u001b[0;36mFuture.result\u001b[0;34m(self, timeout)\u001b[0m\n\u001b[1;32m    447\u001b[0m     \u001b[38;5;28;01mraise\u001b[39;00m CancelledError()\n\u001b[1;32m    448\u001b[0m \u001b[38;5;28;01melif\u001b[39;00m \u001b[38;5;28mself\u001b[39m\u001b[38;5;241m.\u001b[39m_state \u001b[38;5;241m==\u001b[39m FINISHED:\n\u001b[0;32m--> 449\u001b[0m     \u001b[38;5;28;01mreturn\u001b[39;00m \u001b[38;5;28mself\u001b[39m\u001b[38;5;241m.\u001b[39m__get_result()\n\u001b[1;32m    451\u001b[0m \u001b[38;5;28mself\u001b[39m\u001b[38;5;241m.\u001b[39m_condition\u001b[38;5;241m.\u001b[39mwait(timeout)\n\u001b[1;32m    453\u001b[0m \u001b[38;5;28;01mif\u001b[39;00m \u001b[38;5;28mself\u001b[39m\u001b[38;5;241m.\u001b[39m_state \u001b[38;5;129;01min\u001b[39;00m [CANCELLED, CANCELLED_AND_NOTIFIED]:\n",
      "File \u001b[0;32m~/anaconda3/envs/skill-extraction/lib/python3.11/concurrent/futures/_base.py:401\u001b[0m, in \u001b[0;36mFuture.__get_result\u001b[0;34m(self)\u001b[0m\n\u001b[1;32m    399\u001b[0m \u001b[38;5;28;01mif\u001b[39;00m \u001b[38;5;28mself\u001b[39m\u001b[38;5;241m.\u001b[39m_exception:\n\u001b[1;32m    400\u001b[0m     \u001b[38;5;28;01mtry\u001b[39;00m:\n\u001b[0;32m--> 401\u001b[0m         \u001b[38;5;28;01mraise\u001b[39;00m \u001b[38;5;28mself\u001b[39m\u001b[38;5;241m.\u001b[39m_exception\n\u001b[1;32m    402\u001b[0m     \u001b[38;5;28;01mfinally\u001b[39;00m:\n\u001b[1;32m    403\u001b[0m         \u001b[38;5;66;03m# Break a reference cycle with the exception in self._exception\u001b[39;00m\n\u001b[1;32m    404\u001b[0m         \u001b[38;5;28mself\u001b[39m \u001b[38;5;241m=\u001b[39m \u001b[38;5;28;01mNone\u001b[39;00m\n",
      "File \u001b[0;32m~/anaconda3/envs/skill-extraction/lib/python3.11/site-packages/tenacity/__init__.py:382\u001b[0m, in \u001b[0;36mRetrying.__call__\u001b[0;34m(self, fn, *args, **kwargs)\u001b[0m\n\u001b[1;32m    380\u001b[0m \u001b[38;5;28;01mif\u001b[39;00m \u001b[38;5;28misinstance\u001b[39m(do, DoAttempt):\n\u001b[1;32m    381\u001b[0m     \u001b[38;5;28;01mtry\u001b[39;00m:\n\u001b[0;32m--> 382\u001b[0m         result \u001b[38;5;241m=\u001b[39m fn(\u001b[38;5;241m*\u001b[39margs, \u001b[38;5;241m*\u001b[39m\u001b[38;5;241m*\u001b[39mkwargs)\n\u001b[1;32m    383\u001b[0m     \u001b[38;5;28;01mexcept\u001b[39;00m \u001b[38;5;167;01mBaseException\u001b[39;00m:  \u001b[38;5;66;03m# noqa: B902\u001b[39;00m\n\u001b[1;32m    384\u001b[0m         retry_state\u001b[38;5;241m.\u001b[39mset_exception(sys\u001b[38;5;241m.\u001b[39mexc_info())  \u001b[38;5;66;03m# type: ignore[arg-type]\u001b[39;00m\n",
      "File \u001b[0;32m~/anaconda3/envs/skill-extraction/lib/python3.11/site-packages/langchain/llms/fireworks.py:274\u001b[0m, in \u001b[0;36mcompletion_with_retry_batching.<locals>._completion_with_retry\u001b[0;34m(prompt)\u001b[0m\n\u001b[1;32m    272\u001b[0m \u001b[38;5;129m@conditional_decorator\u001b[39m(use_retry, retry_decorator)\n\u001b[1;32m    273\u001b[0m \u001b[38;5;28;01mdef\u001b[39;00m \u001b[38;5;21m_completion_with_retry\u001b[39m(prompt: \u001b[38;5;28mstr\u001b[39m) \u001b[38;5;241m-\u001b[39m\u001b[38;5;241m>\u001b[39m Any:\n\u001b[0;32m--> 274\u001b[0m     \u001b[38;5;28;01mreturn\u001b[39;00m fireworks\u001b[38;5;241m.\u001b[39mclient\u001b[38;5;241m.\u001b[39mCompletion\u001b[38;5;241m.\u001b[39mcreate(\u001b[38;5;241m*\u001b[39m\u001b[38;5;241m*\u001b[39mkwargs, prompt\u001b[38;5;241m=\u001b[39mprompt)\n",
      "File \u001b[0;32m~/anaconda3/envs/skill-extraction/lib/python3.11/site-packages/fireworks/client/base_completion.py:68\u001b[0m, in \u001b[0;36mBaseCompletion.create\u001b[0;34m(cls, model, prompt_or_messages, request_timeout, stream, **kwargs)\u001b[0m\n\u001b[1;32m     66\u001b[0m     \u001b[38;5;28;01mreturn\u001b[39;00m \u001b[38;5;28mcls\u001b[39m\u001b[38;5;241m.\u001b[39m_create_streaming(model, request_timeout, \u001b[38;5;241m*\u001b[39m\u001b[38;5;241m*\u001b[39mkwargs)\n\u001b[1;32m     67\u001b[0m \u001b[38;5;28;01melse\u001b[39;00m:\n\u001b[0;32m---> 68\u001b[0m     \u001b[38;5;28;01mreturn\u001b[39;00m \u001b[38;5;28mcls\u001b[39m\u001b[38;5;241m.\u001b[39m_create_non_streaming(model, request_timeout, \u001b[38;5;241m*\u001b[39m\u001b[38;5;241m*\u001b[39mkwargs)\n",
      "File \u001b[0;32m~/anaconda3/envs/skill-extraction/lib/python3.11/site-packages/fireworks/client/base_completion.py:134\u001b[0m, in \u001b[0;36mBaseCompletion._create_non_streaming\u001b[0;34m(cls, model, request_timeout, **kwargs)\u001b[0m\n\u001b[1;32m    132\u001b[0m client \u001b[38;5;241m=\u001b[39m FireworksClient(request_timeout\u001b[38;5;241m=\u001b[39mrequest_timeout)\n\u001b[1;32m    133\u001b[0m data \u001b[38;5;241m=\u001b[39m {\u001b[38;5;124m\"\u001b[39m\u001b[38;5;124mmodel\u001b[39m\u001b[38;5;124m\"\u001b[39m: model, \u001b[38;5;124m\"\u001b[39m\u001b[38;5;124mstream\u001b[39m\u001b[38;5;124m\"\u001b[39m: \u001b[38;5;28;01mFalse\u001b[39;00m, \u001b[38;5;241m*\u001b[39m\u001b[38;5;241m*\u001b[39mkwargs}\n\u001b[0;32m--> 134\u001b[0m response \u001b[38;5;241m=\u001b[39m client\u001b[38;5;241m.\u001b[39mpost_request_non_streaming(\n\u001b[1;32m    135\u001b[0m     \u001b[38;5;124mf\u001b[39m\u001b[38;5;124m\"\u001b[39m\u001b[38;5;132;01m{\u001b[39;00mclient\u001b[38;5;241m.\u001b[39mbase_url\u001b[38;5;132;01m}\u001b[39;00m\u001b[38;5;124m/\u001b[39m\u001b[38;5;132;01m{\u001b[39;00m\u001b[38;5;28mcls\u001b[39m\u001b[38;5;241m.\u001b[39mendpoint\u001b[38;5;132;01m}\u001b[39;00m\u001b[38;5;124m\"\u001b[39m, data\u001b[38;5;241m=\u001b[39mdata\n\u001b[1;32m    136\u001b[0m )\n\u001b[1;32m    137\u001b[0m \u001b[38;5;28;01mreturn\u001b[39;00m \u001b[38;5;28mcls\u001b[39m\u001b[38;5;241m.\u001b[39mresponse_class(\u001b[38;5;241m*\u001b[39m\u001b[38;5;241m*\u001b[39mresponse)\n",
      "File \u001b[0;32m~/anaconda3/envs/skill-extraction/lib/python3.11/site-packages/fireworks/client/api_client.py:118\u001b[0m, in \u001b[0;36mFireworksClient.post_request_non_streaming\u001b[0;34m(self, url, data)\u001b[0m\n\u001b[1;32m    112\u001b[0m \u001b[38;5;28;01mwith\u001b[39;00m httpx\u001b[38;5;241m.\u001b[39mClient(\n\u001b[1;32m    113\u001b[0m     headers\u001b[38;5;241m=\u001b[39m{\u001b[38;5;124m\"\u001b[39m\u001b[38;5;124mAuthorization\u001b[39m\u001b[38;5;124m\"\u001b[39m: \u001b[38;5;124mf\u001b[39m\u001b[38;5;124m\"\u001b[39m\u001b[38;5;124mBearer \u001b[39m\u001b[38;5;132;01m{\u001b[39;00m\u001b[38;5;28mself\u001b[39m\u001b[38;5;241m.\u001b[39mapi_key\u001b[38;5;132;01m}\u001b[39;00m\u001b[38;5;124m\"\u001b[39m},\n\u001b[1;32m    114\u001b[0m     timeout\u001b[38;5;241m=\u001b[39m\u001b[38;5;28mself\u001b[39m\u001b[38;5;241m.\u001b[39mrequest_timeout,\n\u001b[1;32m    115\u001b[0m     \u001b[38;5;241m*\u001b[39m\u001b[38;5;241m*\u001b[39m\u001b[38;5;28mself\u001b[39m\u001b[38;5;241m.\u001b[39mclient_kwargs,\n\u001b[1;32m    116\u001b[0m ) \u001b[38;5;28;01mas\u001b[39;00m client:\n\u001b[1;32m    117\u001b[0m     response \u001b[38;5;241m=\u001b[39m client\u001b[38;5;241m.\u001b[39mpost(url, json\u001b[38;5;241m=\u001b[39mdata)\n\u001b[0;32m--> 118\u001b[0m     \u001b[38;5;28mself\u001b[39m\u001b[38;5;241m.\u001b[39m_error_handling(response)\n\u001b[1;32m    119\u001b[0m     \u001b[38;5;28;01mreturn\u001b[39;00m response\u001b[38;5;241m.\u001b[39mjson()\n",
      "File \u001b[0;32m~/anaconda3/envs/skill-extraction/lib/python3.11/site-packages/fireworks/client/api_client.py:84\u001b[0m, in \u001b[0;36mFireworksClient._error_handling\u001b[0;34m(self, resp)\u001b[0m\n\u001b[1;32m     82\u001b[0m \u001b[38;5;28;01mif\u001b[39;00m resp\u001b[38;5;241m.\u001b[39mis_error:\n\u001b[1;32m     83\u001b[0m     resp\u001b[38;5;241m.\u001b[39mread()\n\u001b[0;32m---> 84\u001b[0m \u001b[38;5;28mself\u001b[39m\u001b[38;5;241m.\u001b[39m_raise_for_status(resp)\n",
      "File \u001b[0;32m~/anaconda3/envs/skill-extraction/lib/python3.11/site-packages/fireworks/client/api_client.py:58\u001b[0m, in \u001b[0;36mFireworksClient._raise_for_status\u001b[0;34m(self, resp)\u001b[0m\n\u001b[1;32m     56\u001b[0m \u001b[38;5;28;01mdef\u001b[39;00m \u001b[38;5;21m_raise_for_status\u001b[39m(\u001b[38;5;28mself\u001b[39m, resp):\n\u001b[1;32m     57\u001b[0m     \u001b[38;5;28;01mif\u001b[39;00m resp\u001b[38;5;241m.\u001b[39mstatus_code \u001b[38;5;241m==\u001b[39m \u001b[38;5;241m400\u001b[39m:\n\u001b[0;32m---> 58\u001b[0m         \u001b[38;5;28;01mraise\u001b[39;00m InvalidRequestError(resp\u001b[38;5;241m.\u001b[39mjson())\n\u001b[1;32m     59\u001b[0m     \u001b[38;5;28;01melif\u001b[39;00m resp\u001b[38;5;241m.\u001b[39mstatus_code \u001b[38;5;241m==\u001b[39m \u001b[38;5;241m401\u001b[39m:\n\u001b[1;32m     60\u001b[0m         \u001b[38;5;28;01mraise\u001b[39;00m AuthenticationError(resp\u001b[38;5;241m.\u001b[39mjson())\n",
      "\u001b[0;31mInvalidRequestError\u001b[0m: {'error': 'Credit limit reached. Please set up (additional) payment at https://app.fireworks.ai/users?tab=billing.'}"
     ]
    }
   ],
   "source": [
    "import ast\n",
    "\n",
    "test_posting = test_tech_df.at[0, 'text']\n",
    "\n",
    "def get_skills_for_posting(job_posting):\n",
    "    prompt_val = prompt_template.invoke({\"job_posting\": test_posting})\n",
    "    prompt = prompt_val.to_string()\n",
    "    output = llm(prompt)\n",
    "    array_start = output.find('[')\n",
    "    array_end = output.find(']', array_start)\n",
    "    array_string = output[array_start:array_end+1].strip()\n",
    "    return ast.literal_eval(array_string)\n",
    "     \n",
    "llama_results = get_skills_for_posting(test_posting)\n",
    "llama_results"
   ]
  },
  {
   "cell_type": "code",
   "execution_count": null,
   "id": "ab6c5643",
   "metadata": {},
   "outputs": [],
   "source": [
    "def calculate_f1_score(real_values, predicted_values):\n",
    "    tp = sum([1 for val in predicted_values if val in real_values])\n",
    "    fp = sum([1 for val in predicted_values if val not in real_values])\n",
    "    fn = sum([1 for val in real_values if val not in predicted_values])\n",
    "\n",
    "    precision = tp / (tp + fp) if (tp + fp) > 0 else 0\n",
    "    recall = tp / (tp + fn) if (tp + fn) > 0 else 0\n",
    "    f1_score = 2 * (precision * recall) / (precision + recall) if (precision + recall) > 0 else 0\n",
    "    \n",
    "    print(\"Precision:\" + str(precision))\n",
    "    print(\"Recall\" + str(recall))\n",
    "\n",
    "    return f1_score"
   ]
  },
  {
   "cell_type": "code",
   "execution_count": null,
   "id": "73bc9e59",
   "metadata": {},
   "outputs": [],
   "source": [
    "merged_skills_knowledge = test_tech_df.at[0, 'skills'] + test_tech_df.at[0, 'knowledge']\n",
    "\n",
    "merged_skills_knowledge"
   ]
  },
  {
   "cell_type": "code",
   "execution_count": null,
   "id": "16f615ea",
   "metadata": {},
   "outputs": [],
   "source": [
    "calculate_f1_score(merged_skills_knowledge, llama_results)"
   ]
  },
  {
   "cell_type": "code",
   "execution_count": null,
   "id": "57b30d77",
   "metadata": {},
   "outputs": [],
   "source": [
    "from nltk.tokenize import sent_tokenize\n",
    "\n",
    "def divide_into_chunks(text, min_sentences=3):\n",
    "    sentences = sent_tokenize(text)\n",
    "    \n",
    "    chunks = []\n",
    "    current_chunk = []\n",
    "\n",
    "    for sentence in sentences:\n",
    "        current_chunk.append(sentence)\n",
    "        if len(current_chunk) == min_sentences:\n",
    "            chunks.append(' '.join(current_chunk))\n",
    "            current_chunk = []\n",
    "\n",
    "    if current_chunk:\n",
    "        chunks.append(' '.join(current_chunk))\n",
    "\n",
    "    return chunks\n",
    "\n",
    "chunks = divide_into_chunks(test_posting)"
   ]
  },
  {
   "cell_type": "code",
   "execution_count": null,
   "id": "50f3030e",
   "metadata": {},
   "outputs": [],
   "source": [
    "def get_skills_for_posting_chunked(job_posting):\n",
    "    chunks = divide_into_chunks(job_posting)\n",
    "    responses = []\n",
    "    \n",
    "    for chunk in chunks:\n",
    "        try:\n",
    "            prompt_val = prompt_template.invoke({\"job_posting\": chunk})\n",
    "            prompt = prompt_val.to_string()\n",
    "            output = llm(prompt)\n",
    "            array_start = output.find('[')\n",
    "            array_end = output.find(']', array_start)\n",
    "\n",
    "            array_string = output[array_start:array_end+1].strip()\n",
    "            responses = responses + ast.literal_eval(array_string)\n",
    "        except:\n",
    "            print(\"ERROR processing chunk\")\n",
    "    \n",
    "    return responses\n",
    "    \n",
    "responses = get_skills_for_posting_chunked(test_posting)\n",
    "\n",
    "responses"
   ]
  },
  {
   "cell_type": "code",
   "execution_count": null,
   "id": "f11975b8",
   "metadata": {},
   "outputs": [],
   "source": [
    "calculate_f1_score(merged_skills_knowledge, responses)"
   ]
  },
  {
   "cell_type": "code",
   "execution_count": null,
   "id": "a301328b",
   "metadata": {},
   "outputs": [],
   "source": [
    "gpt_4_result = [\n",
    "\"Full Stack Software Engineer\",\n",
    "\"Java\",\n",
    "\"JavaScript\",\n",
    "\"solving business problems through innovation and engineering practices\",\n",
    "\"software development lifecycle\",\n",
    "\"experimentation and learning\",\n",
    "\"collaborative\",\n",
    "\"analytics products development\",\n",
    "\"API development\",\n",
    "\"financial instruments\",\n",
    "\"BS/BA degree\",\n",
    "\"Advanced knowledge of application data and infrastructure architecture disciplines\",\n",
    "\"architecture and design across all systems\",\n",
    "\"developmental toolsets\",\n",
    "\"industry-wide technology strategies and best practices\",\n",
    "\"modern programming languages\",\n",
    "\"business analysis\",\n",
    "\"development\",\n",
    "\"maintenance\",\n",
    "\"software improvement\",\n",
    "\"HTML5\",\n",
    "\"JavaScript\",\n",
    "\"developing multithreaded scalable concurrent applications\",\n",
    "\"Node JS\",\n",
    "\"React\"\n",
    "]\n",
    "\n",
    "f1 = calculate_f1_score(merged_skills_knowledge, gpt_4_result)\n",
    "print(\"F1 Score:\", f1)"
   ]
  },
  {
   "cell_type": "code",
   "execution_count": null,
   "id": "bb0ce36b",
   "metadata": {},
   "outputs": [],
   "source": [
    "f1_scores = []\n",
    "\n",
    "for index, row in test_tech_df.iterrows():\n",
    "    try:\n",
    "        row_merged_skills_knowledge = test_tech_df.at[index, 'skills'] + test_tech_df.at[index, 'knowledge']\n",
    "        res = get_skills_for_posting_chunked(row['text'])\n",
    "        f1_score = calculate_f1_score(row_merged_skills_knowledge, res)\n",
    "        print(f1_score)\n",
    "        f1_scores.append(f1_score)\n",
    "    except Exception as e:\n",
    "        print(f\"Failed to parse skills for row {index}: {e}\")\n",
    "        \n",
    "f1_scores"
   ]
  },
  {
   "cell_type": "code",
   "execution_count": null,
   "id": "b179bbea",
   "metadata": {},
   "outputs": [],
   "source": [
    "sum(f1_scores) / len(f1_scores)"
   ]
  },
  {
   "cell_type": "code",
   "execution_count": null,
   "id": "eae72bea",
   "metadata": {},
   "outputs": [],
   "source": [
    "# Check baseline performance:"
   ]
  },
  {
   "cell_type": "code",
   "execution_count": null,
   "id": "3f813633",
   "metadata": {},
   "outputs": [],
   "source": [
    "from transformers import pipeline\n",
    "\n",
    "token_skill_classifier = pipeline(model=\"jjzha/jobbert_skill_extraction\", aggregation_strategy=\"first\")\n",
    "token_knowledge_classifier = pipeline(model=\"jjzha/jobbert_knowledge_extraction\", aggregation_strategy=\"first\")"
   ]
  },
  {
   "cell_type": "code",
   "execution_count": null,
   "id": "1f427b5e",
   "metadata": {},
   "outputs": [],
   "source": [
    "def aggregate_span(results):\n",
    "    new_results = []\n",
    "    current_result = results[0]\n",
    "\n",
    "    for result in results[1:]:\n",
    "        if result[\"start\"] == current_result[\"end\"] + 1:\n",
    "            current_result[\"word\"] += \" \" + result[\"word\"]\n",
    "            current_result[\"end\"] = result[\"end\"]\n",
    "        else:\n",
    "            new_results.append(current_result)\n",
    "            current_result = result\n",
    "\n",
    "    new_results.append(current_result)\n",
    "\n",
    "    return new_results"
   ]
  },
  {
   "cell_type": "code",
   "execution_count": null,
   "id": "f70ddeed",
   "metadata": {},
   "outputs": [],
   "source": [
    "import spacy\n",
    "\n",
    "nlp = spacy.load(\"en_core_web_sm\")\n",
    "\n",
    "def ner(text):\n",
    "    output_skills = []\n",
    "    output_knowledge = []\n",
    "\n",
    "    doc = nlp(text)\n",
    "    sentences = [sent.text.strip() for sent in doc.sents]\n",
    "\n",
    "    for sentence in sentences:\n",
    "        skills, knowledge = process_sentence(sentence)\n",
    "        output_skills.extend(skills)\n",
    "        output_knowledge.extend(knowledge)\n",
    "\n",
    "    return {\"text\": text, \"entities\": output_skills}, {\"text\": text, \"entities\": output_knowledge}\n",
    "\n",
    "def process_sentence(sentence):\n",
    "    skills = token_skill_classifier(sentence)\n",
    "    for result in skills:\n",
    "        if result.get(\"entity_group\"):\n",
    "            result[\"entity\"] = \"Skill\"\n",
    "            del result[\"entity_group\"]\n",
    "\n",
    "    knowledge = token_knowledge_classifier(sentence)\n",
    "    for result in knowledge:\n",
    "        if result.get(\"entity_group\"):\n",
    "            result[\"entity\"] = \"Knowledge\"\n",
    "            del result[\"entity_group\"]\n",
    "\n",
    "    if len(skills) > 0:\n",
    "        skills = aggregate_span(skills)\n",
    "    if len(knowledge) > 0:\n",
    "        knowledge = aggregate_span(knowledge)\n",
    "\n",
    "    return skills, knowledge"
   ]
  },
  {
   "cell_type": "code",
   "execution_count": null,
   "id": "1ce7dd2e",
   "metadata": {},
   "outputs": [],
   "source": [
    "f1_scores_baseline = []\n",
    "\n",
    "for index, row in test_tech_df.iterrows():\n",
    "    try:\n",
    "        row_merged_skills_knowledge = test_tech_df.at[index, 'skills'] + test_tech_df.at[index, 'knowledge']\n",
    "        ner_results = ner(row['text'])\n",
    "        detected_entities = [entity for entity_group in ner_results for entity in entity_group[\"entities\"]]\n",
    "        detected_words = [entity['word'] for entity in detected_entities]\n",
    "        f1_score = calculate_f1_score(row_merged_skills_knowledge, detected_words)\n",
    "        f1_scores_baseline.append(f1_score)\n",
    "    except Exception as e:\n",
    "        print(f\"Failed to parse skills for row {index}: {e}\")\n",
    "        \n",
    "f1_scores_baseline"
   ]
  },
  {
   "cell_type": "code",
   "execution_count": null,
   "id": "8a02f099",
   "metadata": {},
   "outputs": [],
   "source": [
    "sum(f1_scores_baseline) / len(f1_scores_baseline)"
   ]
  }
 ],
 "metadata": {
  "kernelspec": {
   "display_name": "skill-extraction-env",
   "language": "python",
   "name": "skill-extraction-env"
  },
  "language_info": {
   "codemirror_mode": {
    "name": "ipython",
    "version": 3
   },
   "file_extension": ".py",
   "mimetype": "text/x-python",
   "name": "python",
   "nbconvert_exporter": "python",
   "pygments_lexer": "ipython3",
   "version": "3.11.5"
  }
 },
 "nbformat": 4,
 "nbformat_minor": 5
}
