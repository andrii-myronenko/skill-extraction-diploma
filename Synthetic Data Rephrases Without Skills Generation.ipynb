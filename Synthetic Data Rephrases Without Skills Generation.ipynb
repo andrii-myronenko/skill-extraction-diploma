{
 "cells": [
  {
   "cell_type": "code",
   "execution_count": 4,
   "id": "31c5cab3",
   "metadata": {},
   "outputs": [],
   "source": [
    "import pandas as pd\n",
    "import random\n",
    "import json\n",
    "\n",
    "random.seed(42)\n",
    "\n",
    "experiment_name = \"second_experiment\"\n",
    "number_of_house_sentences = 221\n",
    "number_of_tech_sentences = 423"
   ]
  },
  {
   "cell_type": "code",
   "execution_count": 5,
   "id": "e894f52e",
   "metadata": {},
   "outputs": [],
   "source": [
    "import json\n",
    "\n",
    "with open('./data/SkillSpan/json/train.json', 'r') as file:\n",
    "    skillspan_raw_data = json.load(file)"
   ]
  },
  {
   "cell_type": "code",
   "execution_count": 6,
   "id": "cffb7ad6",
   "metadata": {},
   "outputs": [],
   "source": [
    "def filter_json_data(data):\n",
    "    house_data = []\n",
    "    tech_data = []\n",
    "\n",
    "    for item in data:\n",
    "        if item['source'] == 'house':\n",
    "            house_data.append(item)\n",
    "        elif item['source'] == 'tech':\n",
    "            tech_data.append(item)\n",
    "\n",
    "    return house_data, tech_data\n",
    "\n",
    "house_data, tech_data = filter_json_data(skillspan_raw_data)"
   ]
  },
  {
   "cell_type": "code",
   "execution_count": 7,
   "id": "0a2aee51",
   "metadata": {},
   "outputs": [
    {
     "name": "stdout",
     "output_type": "stream",
     "text": [
      "{'idx': 2, 'tokens': ['*', 'Hands-on', 'experience', 'in', 'Core', 'Java', 'Spring', 'Boot', 'and', 'Microservices'], 'tags_skill': ['O', 'O', 'O', 'O', 'O', 'O', 'O', 'O', 'O', 'O'], 'tags_knowledge': ['O', 'O', 'O', 'O', 'B', 'I', 'B', 'I', 'O', 'B'], 'source': 'tech'}\n"
     ]
    },
    {
     "data": {
      "text/plain": [
       "'* Hands-on experience in ##Core Java## ##Spring Boot## and ##Microservices##'"
      ]
     },
     "execution_count": 7,
     "metadata": {},
     "output_type": "execute_result"
    }
   ],
   "source": [
    "def annotate_sentence(tokens, tags_skill, tags_knowledge):\n",
    "    final_tokens = []\n",
    "\n",
    "    for index, (token, skill_tag, knowledge_tag) in enumerate(zip(tokens, tags_skill, tags_knowledge)):\n",
    "        current_tokens = [];\n",
    "\n",
    "        if skill_tag == 'B':\n",
    "            current_tokens.append(\"@@\");\n",
    "        if knowledge_tag == 'B':\n",
    "            current_tokens.append(\"##\");\n",
    "        current_tokens.append(token)\n",
    "\n",
    "        if len(tokens) == index+1:\n",
    "            if knowledge_tag == 'I' or knowledge_tag == 'B':\n",
    "                current_tokens.append(\"##\")\n",
    "            if skill_tag == 'I' or skill_tag == 'B':\n",
    "                current_tokens.append(\"@@\")\n",
    "        else:\n",
    "            next_knowledge_tag = tags_knowledge[index+1]\n",
    "            if (knowledge_tag == 'I' or knowledge_tag == 'B') and (next_knowledge_tag == 'O' or next_knowledge_tag == 'B'):\n",
    "                current_tokens.append(\"##\")\n",
    "            next_skill_tag = tags_skill[index+1]\n",
    "            if (skill_tag == 'I' or skill_tag == 'B') and (next_skill_tag == 'O' or next_skill_tag == 'B'):\n",
    "                current_tokens.append(\"@@\")\n",
    "\n",
    "        final_tokens.append(''.join(current_tokens))\n",
    "\n",
    "    return ' '.join(final_tokens)\n",
    "\n",
    "\n",
    "idx = 105;\n",
    "\n",
    "print(tech_data[idx])\n",
    "annotate_sentence(tech_data[idx]['tokens'], tech_data[idx]['tags_skill'], tech_data[idx]['tags_knowledge'])"
   ]
  },
  {
   "cell_type": "code",
   "execution_count": 8,
   "id": "a91ba687",
   "metadata": {},
   "outputs": [],
   "source": [
    "def annotate_data(data):\n",
    "    for idx in range(len(data)):\n",
    "        data[idx]['highlighted_sentence'] = annotate_sentence(data[idx]['tokens'], data[idx]['tags_skill'], data[idx]['tags_knowledge'])\n",
    "        data[idx]['count_skills'] = data[idx]['tags_skill'].count(\"B\")\n",
    "        data[idx]['count_knowledge'] = data[idx]['tags_knowledge'].count(\"B\")\n",
    "\n",
    "\n",
    "annotate_data(tech_data)\n",
    "annotate_data(house_data)"
   ]
  },
  {
   "cell_type": "code",
   "execution_count": 9,
   "id": "47c1636c",
   "metadata": {},
   "outputs": [],
   "source": [
    "tech_data_without_entities = list(filter(lambda obj: obj['count_skills'] == 0 and obj.get('count_knowledge', 0) == 0, tech_data))\n",
    "house_data_without_entities = list(filter(lambda obj: obj['count_skills'] == 0 and obj.get('count_knowledge', 0) == 0, house_data))"
   ]
  },
  {
   "cell_type": "code",
   "execution_count": 10,
   "id": "40e6d534",
   "metadata": {},
   "outputs": [],
   "source": [
    "def generate_rewrite_prompts(data, n):\n",
    "    selected_entries = random.sample(data, n)\n",
    "\n",
    "    prompts = []\n",
    "    for entry in selected_entries:\n",
    "        sentence = entry['highlighted_sentence']\n",
    "        prompt = (f\"Take this sentence from a Job Posting.\\n\\n\"\n",
    "          f\"Sentence: \\\"{sentence}\\\"\\n\\n\"\n",
    "          f\"Rewrite it by finding synonyms but not changing the meaning. \"\n",
    "          f\"Don't change the style of the text. The sentence should look like it is from the vacancy.\")\n",
    "        prompts.append(prompt)\n",
    "\n",
    "    return prompts"
   ]
  },
  {
   "cell_type": "code",
   "execution_count": 16,
   "id": "bd7f3d6e",
   "metadata": {},
   "outputs": [],
   "source": [
    "from dotenv import load_dotenv\n",
    "import ast\n",
    "from langchain_openai import ChatOpenAI\n",
    "from langchain_core.prompts import ChatPromptTemplate\n",
    "from langchain_core.output_parsers import StrOutputParser\n",
    "\n",
    "load_dotenv()\n",
    "\n",
    "llm = ChatOpenAI(model=\"gpt-4-0613\", temperature=0)\n",
    "\n",
    "prompt = ChatPromptTemplate.from_messages([\n",
    "    (\"user\", \"{input}\")\n",
    "])\n",
    "\n",
    "output_parser = StrOutputParser()\n",
    "\n",
    "chain = prompt | llm | output_parser"
   ]
  },
  {
   "cell_type": "code",
   "execution_count": 18,
   "id": "73c8e1be",
   "metadata": {},
   "outputs": [
    {
     "data": {
      "text/plain": [
       "['Take this sentence from a Job Posting.\\n\\nSentence: \"Job benefits: -\"\\n\\nRewrite it by finding synonyms but not changing the meaning. Don\\'t change the style of the text. The sentence should look like it is from the vacancy.',\n",
       " 'Take this sentence from a Job Posting.\\n\\nSentence: \"To find out more about working with us search <ORGANIZATION> on social media .\"\\n\\nRewrite it by finding synonyms but not changing the meaning. Don\\'t change the style of the text. The sentence should look like it is from the vacancy.',\n",
       " 'Take this sentence from a Job Posting.\\n\\nSentence: \"<ORGANIZATION> <ORGANIZATION> <ORGANIZATION> <ORGANIZATION> <ORGANIZATION>\"\\n\\nRewrite it by finding synonyms but not changing the meaning. Don\\'t change the style of the text. The sentence should look like it is from the vacancy.',\n",
       " 'Take this sentence from a Job Posting.\\n\\nSentence: \"We value fluidity and shared work between teams and you will have plenty of opportunities to explore the different parts of our infrastructure .\"\\n\\nRewrite it by finding synonyms but not changing the meaning. Don\\'t change the style of the text. The sentence should look like it is from the vacancy.',\n",
       " 'Take this sentence from a Job Posting.\\n\\nSentence: \"<LOCATION> <LOCATION> <LOCATION> <LOCATION> <LOCATION> <LOCATION> <LOCATION> <LOCATION> <LOCATION> <LOCATION> <LOCATION>\"\\n\\nRewrite it by finding synonyms but not changing the meaning. Don\\'t change the style of the text. The sentence should look like it is from the vacancy.']"
      ]
     },
     "execution_count": 18,
     "metadata": {},
     "output_type": "execute_result"
    }
   ],
   "source": [
    "prompts_for_rewrite_tech = generate_rewrite_prompts(tech_data_without_entities, number_of_tech_sentences)\n",
    "\n",
    "prompts_for_rewrite_tech[:5]"
   ]
  },
  {
   "cell_type": "code",
   "execution_count": 19,
   "id": "c0eb20fa",
   "metadata": {},
   "outputs": [],
   "source": [
    "def get_results(prompts, chain):\n",
    "    results = []\n",
    "    for current_prompt in prompts:\n",
    "        result = chain.invoke({\"input\": current_prompt})\n",
    "        results.append(result)\n",
    "    return results\n",
    "\n",
    "rewritten_tech = get_results(prompts_for_rewrite_tech, chain)"
   ]
  },
  {
   "cell_type": "code",
   "execution_count": 20,
   "id": "87ff7380",
   "metadata": {},
   "outputs": [
    {
     "data": {
      "text/plain": [
       "['\"Employment perks: -\"',\n",
       " '\"For additional insights about being part of our team, look up <ORGANIZATION> on social media.\"',\n",
       " '<COMPANY> <FIRM> <INSTITUTION> <CORPORATION> <ENTERPRISE>',\n",
       " '\"We appreciate flexibility and collaborative efforts among teams, and you will have ample chances to delve into the various aspects of our infrastructure.\"',\n",
       " '<PLACE> <PLACE> <PLACE> <PLACE> <PLACE> <PLACE> <PLACE> <PLACE> <PLACE> <PLACE> <PLACE>']"
      ]
     },
     "execution_count": 20,
     "metadata": {},
     "output_type": "execute_result"
    }
   ],
   "source": [
    "rewritten_tech[0:5]"
   ]
  },
  {
   "cell_type": "code",
   "execution_count": 22,
   "id": "99c01e20",
   "metadata": {},
   "outputs": [
    {
     "data": {
      "text/plain": [
       "['Employment perks: -',\n",
       " 'For additional insights about being part of our team, look up <ORGANIZATION> on social media.',\n",
       " '<COMPANY> <FIRM> <INSTITUTION> <CORPORATION> <ENTERPRISE>',\n",
       " 'We appreciate flexibility and collaborative efforts among teams, and you will have ample chances to delve into the various aspects of our infrastructure.',\n",
       " '<PLACE> <PLACE> <PLACE> <PLACE> <PLACE> <PLACE> <PLACE> <PLACE> <PLACE> <PLACE> <PLACE>']"
      ]
     },
     "execution_count": 22,
     "metadata": {},
     "output_type": "execute_result"
    }
   ],
   "source": [
    "def clean_results(res):\n",
    "    cleaned_results = [s[1:-1] if s.startswith('\"') and s.endswith('\"') else s for s in res]\n",
    "    cleaned_results = [s[1:-1] if s.startswith('\\'') and s.endswith('\\'') else s for s in cleaned_results]\n",
    "\n",
    "    return cleaned_results\n",
    "\n",
    "cleaned_rewritten_tech = clean_results(rewritten_tech)\n",
    "\n",
    "cleaned_rewritten_tech[:5]"
   ]
  },
  {
   "cell_type": "code",
   "execution_count": 25,
   "id": "30b7a479",
   "metadata": {},
   "outputs": [],
   "source": [
    "with open(f\"data/experiments/{experiment_name}/{number_of_tech_sentences}_tech_rewrites.json\", 'w') as f:\n",
    "    json.dump(cleaned_rewritten_tech, f)"
   ]
  },
  {
   "cell_type": "code",
   "execution_count": 26,
   "id": "620a8fa8",
   "metadata": {},
   "outputs": [],
   "source": [
    "prompts_for_rewrite_house = generate_rewrite_prompts(house_data_without_entities, number_of_house_sentences)"
   ]
  },
  {
   "cell_type": "code",
   "execution_count": 28,
   "id": "9118cde7",
   "metadata": {},
   "outputs": [],
   "source": [
    "rewritten_house = get_results(prompts_for_rewrite_house[:5], chain)"
   ]
  },
  {
   "cell_type": "code",
   "execution_count": 29,
   "id": "e11a9d2c",
   "metadata": {},
   "outputs": [
    {
     "data": {
      "text/plain": [
       "['\"Suggestions for a logical application of these forecasting techniques should finalize the project.\"',\n",
       " '\"Acknowledging the potency of <ORGANIZATION> <ORGANIZATION> <ORGANIZATION> business framework and triumph, a formidable group of investors of <ORGANIZATION> in <LOCATION> has infused DKK 80M (approximately 12M USD) into the firm in 2019. With the company\\'s value doubling in a mere year, <ORGANIZATION> <ORGANIZATION> <ORGANIZATION> is currently valued at 800 million DKK (roughly 120M USD).\"',\n",
       " '\"92% of our clientele receive a diagnosis and treatment strategy within sixty minutes, and in instances where surgery is required, the patient is also provided with a scheduled date and time for the procedure prior to departing the outpatient facility.\"',\n",
       " '\"We are a vibrant, lively, and varied work environment promoting a candid and casual atmosphere, robust solidarity, and lofty aspirations.\"',\n",
       " '\"In this initiative, a cross-disciplinary group will tackle this query utilizing cutting-edge organotypic PDAC models, genomics, and sophisticated bioinformatics methodologies.\"']"
      ]
     },
     "execution_count": 29,
     "metadata": {},
     "output_type": "execute_result"
    }
   ],
   "source": [
    "rewritten_house[0:5]"
   ]
  },
  {
   "cell_type": "code",
   "execution_count": 30,
   "id": "63450be9",
   "metadata": {},
   "outputs": [
    {
     "data": {
      "text/plain": [
       "['Suggestions for a logical application of these forecasting techniques should finalize the project.',\n",
       " \"Acknowledging the potency of <ORGANIZATION> <ORGANIZATION> <ORGANIZATION> business framework and triumph, a formidable group of investors of <ORGANIZATION> in <LOCATION> has infused DKK 80M (approximately 12M USD) into the firm in 2019. With the company's value doubling in a mere year, <ORGANIZATION> <ORGANIZATION> <ORGANIZATION> is currently valued at 800 million DKK (roughly 120M USD).\",\n",
       " '92% of our clientele receive a diagnosis and treatment strategy within sixty minutes, and in instances where surgery is required, the patient is also provided with a scheduled date and time for the procedure prior to departing the outpatient facility.',\n",
       " 'We are a vibrant, lively, and varied work environment promoting a candid and casual atmosphere, robust solidarity, and lofty aspirations.',\n",
       " 'In this initiative, a cross-disciplinary group will tackle this query utilizing cutting-edge organotypic PDAC models, genomics, and sophisticated bioinformatics methodologies.']"
      ]
     },
     "execution_count": 30,
     "metadata": {},
     "output_type": "execute_result"
    }
   ],
   "source": [
    "cleaned_rewritten_house = clean_results(rewritten_house)\n",
    "\n",
    "cleaned_rewritten_house[:5]"
   ]
  },
  {
   "cell_type": "code",
   "execution_count": 32,
   "id": "64e586f0",
   "metadata": {},
   "outputs": [],
   "source": [
    "with open(f\"data/experiments/{experiment_name}/{number_of_house_sentences}_house_rewrites.json\", 'w') as f:\n",
    "    json.dump(cleaned_rewritten_house, f)"
   ]
  }
 ],
 "metadata": {
  "kernelspec": {
   "display_name": "skill-extraction-env",
   "language": "python",
   "name": "skill-extraction-env"
  },
  "language_info": {
   "codemirror_mode": {
    "name": "ipython",
    "version": 3
   },
   "file_extension": ".py",
   "mimetype": "text/x-python",
   "name": "python",
   "nbconvert_exporter": "python",
   "pygments_lexer": "ipython3",
   "version": "3.11.5"
  }
 },
 "nbformat": 4,
 "nbformat_minor": 5
}
